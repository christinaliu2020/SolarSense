{
  "cells": [
    {
      "cell_type": "code",
      "execution_count": 125,
      "id": "cd71dda8",
      "metadata": {
        "id": "cd71dda8"
      },
      "outputs": [],
      "source": [
        "import pandas as pd \n",
        "import numpy as np  \n",
        "import seaborn as sns\n",
        "import matplotlib.pyplot as plt\n",
        "from xgboost import XGBRegressor\n",
        "from sklearn.linear_model import LinearRegression\n",
        "from sklearn.tree import DecisionTreeClassifier\n",
        "%matplotlib inline\n",
        "from sklearn.metrics import mean_squared_error, classification_report\n",
        "\n",
        "import warnings\n",
        "warnings.filterwarnings('ignore')"
      ]
    },
    {
      "cell_type": "code",
      "execution_count": 126,
      "id": "4d2ec9a8",
      "metadata": {
        "colab": {
          "base_uri": "https://localhost:8080/",
          "height": 305
        },
        "id": "4d2ec9a8",
        "outputId": "c912b4ff-d431-4a5c-d624-05e1bd19f84a"
      },
      "outputs": [
        {
          "output_type": "execute_result",
          "data": {
            "text/plain": [
              "   Year  Month  Day  Hour  Minute  Clearsky DHI  Clearsky DNI  Clearsky GHI  \\\n",
              "0  2009      1    1     0       0             0             0             0   \n",
              "1  2009      1    1     0      30             0             0             0   \n",
              "2  2009      1    1     1       0             0             0             0   \n",
              "3  2009      1    1     1      30             0             0             0   \n",
              "4  2009      1    1     2       0             0             0             0   \n",
              "\n",
              "   Cloud Type  Dew Point  Temperature  Pressure  Relative Humidity  \\\n",
              "0           0        0.0          5.0      1010              75.34   \n",
              "1           0        1.0          5.0      1010              80.81   \n",
              "2           4        0.0          5.0      1010              78.27   \n",
              "3           4        0.0          4.0      1010              78.27   \n",
              "4           4        0.0          4.0      1010              76.45   \n",
              "\n",
              "   Solar Zenith Angle  Precipitable Water  Wind Direction  Wind Speed  \\\n",
              "0              106.15               0.499           346.1         3.1   \n",
              "1              112.28               0.490           346.1         3.1   \n",
              "2              118.50               0.482           347.9         3.2   \n",
              "3              124.78               0.478           347.9         3.1   \n",
              "4              131.12               0.475           350.0         3.0   \n",
              "\n",
              "   Fill Flag  \n",
              "0          0  \n",
              "1          0  \n",
              "2          0  \n",
              "3          0  \n",
              "4          0  "
            ],
            "text/html": [
              "\n",
              "  <div id=\"df-57ff5ab8-aa77-4f12-acc0-be090d39a2a3\">\n",
              "    <div class=\"colab-df-container\">\n",
              "      <div>\n",
              "<style scoped>\n",
              "    .dataframe tbody tr th:only-of-type {\n",
              "        vertical-align: middle;\n",
              "    }\n",
              "\n",
              "    .dataframe tbody tr th {\n",
              "        vertical-align: top;\n",
              "    }\n",
              "\n",
              "    .dataframe thead th {\n",
              "        text-align: right;\n",
              "    }\n",
              "</style>\n",
              "<table border=\"1\" class=\"dataframe\">\n",
              "  <thead>\n",
              "    <tr style=\"text-align: right;\">\n",
              "      <th></th>\n",
              "      <th>Year</th>\n",
              "      <th>Month</th>\n",
              "      <th>Day</th>\n",
              "      <th>Hour</th>\n",
              "      <th>Minute</th>\n",
              "      <th>Clearsky DHI</th>\n",
              "      <th>Clearsky DNI</th>\n",
              "      <th>Clearsky GHI</th>\n",
              "      <th>Cloud Type</th>\n",
              "      <th>Dew Point</th>\n",
              "      <th>Temperature</th>\n",
              "      <th>Pressure</th>\n",
              "      <th>Relative Humidity</th>\n",
              "      <th>Solar Zenith Angle</th>\n",
              "      <th>Precipitable Water</th>\n",
              "      <th>Wind Direction</th>\n",
              "      <th>Wind Speed</th>\n",
              "      <th>Fill Flag</th>\n",
              "    </tr>\n",
              "  </thead>\n",
              "  <tbody>\n",
              "    <tr>\n",
              "      <th>0</th>\n",
              "      <td>2009</td>\n",
              "      <td>1</td>\n",
              "      <td>1</td>\n",
              "      <td>0</td>\n",
              "      <td>0</td>\n",
              "      <td>0</td>\n",
              "      <td>0</td>\n",
              "      <td>0</td>\n",
              "      <td>0</td>\n",
              "      <td>0.0</td>\n",
              "      <td>5.0</td>\n",
              "      <td>1010</td>\n",
              "      <td>75.34</td>\n",
              "      <td>106.15</td>\n",
              "      <td>0.499</td>\n",
              "      <td>346.1</td>\n",
              "      <td>3.1</td>\n",
              "      <td>0</td>\n",
              "    </tr>\n",
              "    <tr>\n",
              "      <th>1</th>\n",
              "      <td>2009</td>\n",
              "      <td>1</td>\n",
              "      <td>1</td>\n",
              "      <td>0</td>\n",
              "      <td>30</td>\n",
              "      <td>0</td>\n",
              "      <td>0</td>\n",
              "      <td>0</td>\n",
              "      <td>0</td>\n",
              "      <td>1.0</td>\n",
              "      <td>5.0</td>\n",
              "      <td>1010</td>\n",
              "      <td>80.81</td>\n",
              "      <td>112.28</td>\n",
              "      <td>0.490</td>\n",
              "      <td>346.1</td>\n",
              "      <td>3.1</td>\n",
              "      <td>0</td>\n",
              "    </tr>\n",
              "    <tr>\n",
              "      <th>2</th>\n",
              "      <td>2009</td>\n",
              "      <td>1</td>\n",
              "      <td>1</td>\n",
              "      <td>1</td>\n",
              "      <td>0</td>\n",
              "      <td>0</td>\n",
              "      <td>0</td>\n",
              "      <td>0</td>\n",
              "      <td>4</td>\n",
              "      <td>0.0</td>\n",
              "      <td>5.0</td>\n",
              "      <td>1010</td>\n",
              "      <td>78.27</td>\n",
              "      <td>118.50</td>\n",
              "      <td>0.482</td>\n",
              "      <td>347.9</td>\n",
              "      <td>3.2</td>\n",
              "      <td>0</td>\n",
              "    </tr>\n",
              "    <tr>\n",
              "      <th>3</th>\n",
              "      <td>2009</td>\n",
              "      <td>1</td>\n",
              "      <td>1</td>\n",
              "      <td>1</td>\n",
              "      <td>30</td>\n",
              "      <td>0</td>\n",
              "      <td>0</td>\n",
              "      <td>0</td>\n",
              "      <td>4</td>\n",
              "      <td>0.0</td>\n",
              "      <td>4.0</td>\n",
              "      <td>1010</td>\n",
              "      <td>78.27</td>\n",
              "      <td>124.78</td>\n",
              "      <td>0.478</td>\n",
              "      <td>347.9</td>\n",
              "      <td>3.1</td>\n",
              "      <td>0</td>\n",
              "    </tr>\n",
              "    <tr>\n",
              "      <th>4</th>\n",
              "      <td>2009</td>\n",
              "      <td>1</td>\n",
              "      <td>1</td>\n",
              "      <td>2</td>\n",
              "      <td>0</td>\n",
              "      <td>0</td>\n",
              "      <td>0</td>\n",
              "      <td>0</td>\n",
              "      <td>4</td>\n",
              "      <td>0.0</td>\n",
              "      <td>4.0</td>\n",
              "      <td>1010</td>\n",
              "      <td>76.45</td>\n",
              "      <td>131.12</td>\n",
              "      <td>0.475</td>\n",
              "      <td>350.0</td>\n",
              "      <td>3.0</td>\n",
              "      <td>0</td>\n",
              "    </tr>\n",
              "  </tbody>\n",
              "</table>\n",
              "</div>\n",
              "      <button class=\"colab-df-convert\" onclick=\"convertToInteractive('df-57ff5ab8-aa77-4f12-acc0-be090d39a2a3')\"\n",
              "              title=\"Convert this dataframe to an interactive table.\"\n",
              "              style=\"display:none;\">\n",
              "        \n",
              "  <svg xmlns=\"http://www.w3.org/2000/svg\" height=\"24px\"viewBox=\"0 0 24 24\"\n",
              "       width=\"24px\">\n",
              "    <path d=\"M0 0h24v24H0V0z\" fill=\"none\"/>\n",
              "    <path d=\"M18.56 5.44l.94 2.06.94-2.06 2.06-.94-2.06-.94-.94-2.06-.94 2.06-2.06.94zm-11 1L8.5 8.5l.94-2.06 2.06-.94-2.06-.94L8.5 2.5l-.94 2.06-2.06.94zm10 10l.94 2.06.94-2.06 2.06-.94-2.06-.94-.94-2.06-.94 2.06-2.06.94z\"/><path d=\"M17.41 7.96l-1.37-1.37c-.4-.4-.92-.59-1.43-.59-.52 0-1.04.2-1.43.59L10.3 9.45l-7.72 7.72c-.78.78-.78 2.05 0 2.83L4 21.41c.39.39.9.59 1.41.59.51 0 1.02-.2 1.41-.59l7.78-7.78 2.81-2.81c.8-.78.8-2.07 0-2.86zM5.41 20L4 18.59l7.72-7.72 1.47 1.35L5.41 20z\"/>\n",
              "  </svg>\n",
              "      </button>\n",
              "      \n",
              "  <style>\n",
              "    .colab-df-container {\n",
              "      display:flex;\n",
              "      flex-wrap:wrap;\n",
              "      gap: 12px;\n",
              "    }\n",
              "\n",
              "    .colab-df-convert {\n",
              "      background-color: #E8F0FE;\n",
              "      border: none;\n",
              "      border-radius: 50%;\n",
              "      cursor: pointer;\n",
              "      display: none;\n",
              "      fill: #1967D2;\n",
              "      height: 32px;\n",
              "      padding: 0 0 0 0;\n",
              "      width: 32px;\n",
              "    }\n",
              "\n",
              "    .colab-df-convert:hover {\n",
              "      background-color: #E2EBFA;\n",
              "      box-shadow: 0px 1px 2px rgba(60, 64, 67, 0.3), 0px 1px 3px 1px rgba(60, 64, 67, 0.15);\n",
              "      fill: #174EA6;\n",
              "    }\n",
              "\n",
              "    [theme=dark] .colab-df-convert {\n",
              "      background-color: #3B4455;\n",
              "      fill: #D2E3FC;\n",
              "    }\n",
              "\n",
              "    [theme=dark] .colab-df-convert:hover {\n",
              "      background-color: #434B5C;\n",
              "      box-shadow: 0px 1px 3px 1px rgba(0, 0, 0, 0.15);\n",
              "      filter: drop-shadow(0px 1px 2px rgba(0, 0, 0, 0.3));\n",
              "      fill: #FFFFFF;\n",
              "    }\n",
              "  </style>\n",
              "\n",
              "      <script>\n",
              "        const buttonEl =\n",
              "          document.querySelector('#df-57ff5ab8-aa77-4f12-acc0-be090d39a2a3 button.colab-df-convert');\n",
              "        buttonEl.style.display =\n",
              "          google.colab.kernel.accessAllowed ? 'block' : 'none';\n",
              "\n",
              "        async function convertToInteractive(key) {\n",
              "          const element = document.querySelector('#df-57ff5ab8-aa77-4f12-acc0-be090d39a2a3');\n",
              "          const dataTable =\n",
              "            await google.colab.kernel.invokeFunction('convertToInteractive',\n",
              "                                                     [key], {});\n",
              "          if (!dataTable) return;\n",
              "\n",
              "          const docLinkHtml = 'Like what you see? Visit the ' +\n",
              "            '<a target=\"_blank\" href=https://colab.research.google.com/notebooks/data_table.ipynb>data table notebook</a>'\n",
              "            + ' to learn more about interactive tables.';\n",
              "          element.innerHTML = '';\n",
              "          dataTable['output_type'] = 'display_data';\n",
              "          await google.colab.output.renderOutput(dataTable, element);\n",
              "          const docLink = document.createElement('div');\n",
              "          docLink.innerHTML = docLinkHtml;\n",
              "          element.appendChild(docLink);\n",
              "        }\n",
              "      </script>\n",
              "    </div>\n",
              "  </div>\n",
              "  "
            ]
          },
          "metadata": {},
          "execution_count": 126
        }
      ],
      "source": [
        "df=pd.read_csv(\"train.csv\")\n",
        "df.head()"
      ]
    },
    {
      "cell_type": "code",
      "execution_count": 127,
      "id": "40979156",
      "metadata": {
        "colab": {
          "base_uri": "https://localhost:8080/"
        },
        "id": "40979156",
        "outputId": "23e29fbb-983a-469d-f24c-2c3a12c0d249"
      },
      "outputs": [
        {
          "output_type": "stream",
          "name": "stdout",
          "text": [
            "<class 'pandas.core.frame.DataFrame'>\n",
            "RangeIndex: 175296 entries, 0 to 175295\n",
            "Data columns (total 18 columns):\n",
            " #   Column              Non-Null Count   Dtype  \n",
            "---  ------              --------------   -----  \n",
            " 0   Year                175296 non-null  int64  \n",
            " 1   Month               175296 non-null  int64  \n",
            " 2   Day                 175296 non-null  int64  \n",
            " 3   Hour                175296 non-null  int64  \n",
            " 4   Minute              175296 non-null  int64  \n",
            " 5   Clearsky DHI        175296 non-null  int64  \n",
            " 6   Clearsky DNI        175296 non-null  int64  \n",
            " 7   Clearsky GHI        175296 non-null  int64  \n",
            " 8   Cloud Type          175296 non-null  int64  \n",
            " 9   Dew Point           175296 non-null  float64\n",
            " 10  Temperature         175296 non-null  float64\n",
            " 11  Pressure            175296 non-null  int64  \n",
            " 12  Relative Humidity   175296 non-null  float64\n",
            " 13  Solar Zenith Angle  175296 non-null  float64\n",
            " 14  Precipitable Water  175296 non-null  float64\n",
            " 15  Wind Direction      175296 non-null  float64\n",
            " 16  Wind Speed          175296 non-null  float64\n",
            " 17  Fill Flag           175296 non-null  int64  \n",
            "dtypes: float64(7), int64(11)\n",
            "memory usage: 24.1 MB\n"
          ]
        }
      ],
      "source": [
        "df.info()"
      ]
    },
    {
      "cell_type": "code",
      "execution_count": 128,
      "id": "f846edc3",
      "metadata": {
        "colab": {
          "base_uri": "https://localhost:8080/",
          "height": 399
        },
        "id": "f846edc3",
        "outputId": "0a25fee2-2feb-4e26-c831-22c532a09af1"
      },
      "outputs": [
        {
          "output_type": "execute_result",
          "data": {
            "text/plain": [
              "                Year          Month            Day           Hour  \\\n",
              "count  175296.000000  175296.000000  175296.000000  175296.000000   \n",
              "mean     2013.500274       6.523549      15.727820      11.500000   \n",
              "std         2.871908       3.448543       8.799349       6.922206   \n",
              "min      2009.000000       1.000000       1.000000       0.000000   \n",
              "25%      2011.000000       4.000000       8.000000       5.750000   \n",
              "50%      2013.500000       7.000000      16.000000      11.500000   \n",
              "75%      2016.000000      10.000000      23.000000      17.250000   \n",
              "max      2018.000000      12.000000      31.000000      23.000000   \n",
              "\n",
              "              Minute   Clearsky DHI   Clearsky DNI   Clearsky GHI  \\\n",
              "count  175296.000000  175296.000000  175296.000000  175296.000000   \n",
              "mean       15.000000      53.065426     330.065295     254.365490   \n",
              "std        15.000043      64.201407     370.030821     327.705006   \n",
              "min         0.000000       0.000000       0.000000       0.000000   \n",
              "25%         0.000000       0.000000       0.000000       0.000000   \n",
              "50%        15.000000       0.000000       0.000000       0.000000   \n",
              "75%        30.000000     103.000000     736.000000     535.000000   \n",
              "max        30.000000     565.000000    1040.000000    1063.000000   \n",
              "\n",
              "          Cloud Type      Dew Point    Temperature       Pressure  \\\n",
              "count  175296.000000  175296.000000  175296.000000  175296.000000   \n",
              "mean        2.540474      13.564431      18.266769    1003.185230   \n",
              "std         3.021879       8.196787       8.943096       5.935749   \n",
              "min         0.000000     -17.000000      -9.000000     970.000000   \n",
              "25%         0.000000       8.000000      12.000000    1000.000000   \n",
              "50%         1.000000      15.000000      20.000000    1000.000000   \n",
              "75%         6.000000      21.000000      25.000000    1010.000000   \n",
              "max        10.000000      26.900000      40.000000    1024.000000   \n",
              "\n",
              "       Relative Humidity  Solar Zenith Angle  Precipitable Water  \\\n",
              "count      175296.000000       175296.000000       175296.000000   \n",
              "mean           79.376366           89.729463            2.903732   \n",
              "std            19.678235           40.085451            1.546979   \n",
              "min             7.190000            8.550000            0.122000   \n",
              "25%            65.590000           56.450000            1.534000   \n",
              "50%            84.230000           89.860000            2.866000   \n",
              "75%            97.950000          123.060000            4.223000   \n",
              "max           100.000000          171.550000            7.700000   \n",
              "\n",
              "       Wind Direction     Wind Speed      Fill Flag  \n",
              "count   175296.000000  175296.000000  175296.000000  \n",
              "mean       188.877796       2.262871       0.740433  \n",
              "std         99.014733       1.281902       6.575655  \n",
              "min          0.000000       0.000000       0.000000  \n",
              "25%         97.400000       1.300000       0.000000  \n",
              "50%        200.000000       2.000000       0.000000  \n",
              "75%        272.000000       3.000000       0.000000  \n",
              "max        360.000000      12.900000     100.000000  "
            ],
            "text/html": [
              "\n",
              "  <div id=\"df-49e31035-feb6-42ad-877e-1de2750efe99\">\n",
              "    <div class=\"colab-df-container\">\n",
              "      <div>\n",
              "<style scoped>\n",
              "    .dataframe tbody tr th:only-of-type {\n",
              "        vertical-align: middle;\n",
              "    }\n",
              "\n",
              "    .dataframe tbody tr th {\n",
              "        vertical-align: top;\n",
              "    }\n",
              "\n",
              "    .dataframe thead th {\n",
              "        text-align: right;\n",
              "    }\n",
              "</style>\n",
              "<table border=\"1\" class=\"dataframe\">\n",
              "  <thead>\n",
              "    <tr style=\"text-align: right;\">\n",
              "      <th></th>\n",
              "      <th>Year</th>\n",
              "      <th>Month</th>\n",
              "      <th>Day</th>\n",
              "      <th>Hour</th>\n",
              "      <th>Minute</th>\n",
              "      <th>Clearsky DHI</th>\n",
              "      <th>Clearsky DNI</th>\n",
              "      <th>Clearsky GHI</th>\n",
              "      <th>Cloud Type</th>\n",
              "      <th>Dew Point</th>\n",
              "      <th>Temperature</th>\n",
              "      <th>Pressure</th>\n",
              "      <th>Relative Humidity</th>\n",
              "      <th>Solar Zenith Angle</th>\n",
              "      <th>Precipitable Water</th>\n",
              "      <th>Wind Direction</th>\n",
              "      <th>Wind Speed</th>\n",
              "      <th>Fill Flag</th>\n",
              "    </tr>\n",
              "  </thead>\n",
              "  <tbody>\n",
              "    <tr>\n",
              "      <th>count</th>\n",
              "      <td>175296.000000</td>\n",
              "      <td>175296.000000</td>\n",
              "      <td>175296.000000</td>\n",
              "      <td>175296.000000</td>\n",
              "      <td>175296.000000</td>\n",
              "      <td>175296.000000</td>\n",
              "      <td>175296.000000</td>\n",
              "      <td>175296.000000</td>\n",
              "      <td>175296.000000</td>\n",
              "      <td>175296.000000</td>\n",
              "      <td>175296.000000</td>\n",
              "      <td>175296.000000</td>\n",
              "      <td>175296.000000</td>\n",
              "      <td>175296.000000</td>\n",
              "      <td>175296.000000</td>\n",
              "      <td>175296.000000</td>\n",
              "      <td>175296.000000</td>\n",
              "      <td>175296.000000</td>\n",
              "    </tr>\n",
              "    <tr>\n",
              "      <th>mean</th>\n",
              "      <td>2013.500274</td>\n",
              "      <td>6.523549</td>\n",
              "      <td>15.727820</td>\n",
              "      <td>11.500000</td>\n",
              "      <td>15.000000</td>\n",
              "      <td>53.065426</td>\n",
              "      <td>330.065295</td>\n",
              "      <td>254.365490</td>\n",
              "      <td>2.540474</td>\n",
              "      <td>13.564431</td>\n",
              "      <td>18.266769</td>\n",
              "      <td>1003.185230</td>\n",
              "      <td>79.376366</td>\n",
              "      <td>89.729463</td>\n",
              "      <td>2.903732</td>\n",
              "      <td>188.877796</td>\n",
              "      <td>2.262871</td>\n",
              "      <td>0.740433</td>\n",
              "    </tr>\n",
              "    <tr>\n",
              "      <th>std</th>\n",
              "      <td>2.871908</td>\n",
              "      <td>3.448543</td>\n",
              "      <td>8.799349</td>\n",
              "      <td>6.922206</td>\n",
              "      <td>15.000043</td>\n",
              "      <td>64.201407</td>\n",
              "      <td>370.030821</td>\n",
              "      <td>327.705006</td>\n",
              "      <td>3.021879</td>\n",
              "      <td>8.196787</td>\n",
              "      <td>8.943096</td>\n",
              "      <td>5.935749</td>\n",
              "      <td>19.678235</td>\n",
              "      <td>40.085451</td>\n",
              "      <td>1.546979</td>\n",
              "      <td>99.014733</td>\n",
              "      <td>1.281902</td>\n",
              "      <td>6.575655</td>\n",
              "    </tr>\n",
              "    <tr>\n",
              "      <th>min</th>\n",
              "      <td>2009.000000</td>\n",
              "      <td>1.000000</td>\n",
              "      <td>1.000000</td>\n",
              "      <td>0.000000</td>\n",
              "      <td>0.000000</td>\n",
              "      <td>0.000000</td>\n",
              "      <td>0.000000</td>\n",
              "      <td>0.000000</td>\n",
              "      <td>0.000000</td>\n",
              "      <td>-17.000000</td>\n",
              "      <td>-9.000000</td>\n",
              "      <td>970.000000</td>\n",
              "      <td>7.190000</td>\n",
              "      <td>8.550000</td>\n",
              "      <td>0.122000</td>\n",
              "      <td>0.000000</td>\n",
              "      <td>0.000000</td>\n",
              "      <td>0.000000</td>\n",
              "    </tr>\n",
              "    <tr>\n",
              "      <th>25%</th>\n",
              "      <td>2011.000000</td>\n",
              "      <td>4.000000</td>\n",
              "      <td>8.000000</td>\n",
              "      <td>5.750000</td>\n",
              "      <td>0.000000</td>\n",
              "      <td>0.000000</td>\n",
              "      <td>0.000000</td>\n",
              "      <td>0.000000</td>\n",
              "      <td>0.000000</td>\n",
              "      <td>8.000000</td>\n",
              "      <td>12.000000</td>\n",
              "      <td>1000.000000</td>\n",
              "      <td>65.590000</td>\n",
              "      <td>56.450000</td>\n",
              "      <td>1.534000</td>\n",
              "      <td>97.400000</td>\n",
              "      <td>1.300000</td>\n",
              "      <td>0.000000</td>\n",
              "    </tr>\n",
              "    <tr>\n",
              "      <th>50%</th>\n",
              "      <td>2013.500000</td>\n",
              "      <td>7.000000</td>\n",
              "      <td>16.000000</td>\n",
              "      <td>11.500000</td>\n",
              "      <td>15.000000</td>\n",
              "      <td>0.000000</td>\n",
              "      <td>0.000000</td>\n",
              "      <td>0.000000</td>\n",
              "      <td>1.000000</td>\n",
              "      <td>15.000000</td>\n",
              "      <td>20.000000</td>\n",
              "      <td>1000.000000</td>\n",
              "      <td>84.230000</td>\n",
              "      <td>89.860000</td>\n",
              "      <td>2.866000</td>\n",
              "      <td>200.000000</td>\n",
              "      <td>2.000000</td>\n",
              "      <td>0.000000</td>\n",
              "    </tr>\n",
              "    <tr>\n",
              "      <th>75%</th>\n",
              "      <td>2016.000000</td>\n",
              "      <td>10.000000</td>\n",
              "      <td>23.000000</td>\n",
              "      <td>17.250000</td>\n",
              "      <td>30.000000</td>\n",
              "      <td>103.000000</td>\n",
              "      <td>736.000000</td>\n",
              "      <td>535.000000</td>\n",
              "      <td>6.000000</td>\n",
              "      <td>21.000000</td>\n",
              "      <td>25.000000</td>\n",
              "      <td>1010.000000</td>\n",
              "      <td>97.950000</td>\n",
              "      <td>123.060000</td>\n",
              "      <td>4.223000</td>\n",
              "      <td>272.000000</td>\n",
              "      <td>3.000000</td>\n",
              "      <td>0.000000</td>\n",
              "    </tr>\n",
              "    <tr>\n",
              "      <th>max</th>\n",
              "      <td>2018.000000</td>\n",
              "      <td>12.000000</td>\n",
              "      <td>31.000000</td>\n",
              "      <td>23.000000</td>\n",
              "      <td>30.000000</td>\n",
              "      <td>565.000000</td>\n",
              "      <td>1040.000000</td>\n",
              "      <td>1063.000000</td>\n",
              "      <td>10.000000</td>\n",
              "      <td>26.900000</td>\n",
              "      <td>40.000000</td>\n",
              "      <td>1024.000000</td>\n",
              "      <td>100.000000</td>\n",
              "      <td>171.550000</td>\n",
              "      <td>7.700000</td>\n",
              "      <td>360.000000</td>\n",
              "      <td>12.900000</td>\n",
              "      <td>100.000000</td>\n",
              "    </tr>\n",
              "  </tbody>\n",
              "</table>\n",
              "</div>\n",
              "      <button class=\"colab-df-convert\" onclick=\"convertToInteractive('df-49e31035-feb6-42ad-877e-1de2750efe99')\"\n",
              "              title=\"Convert this dataframe to an interactive table.\"\n",
              "              style=\"display:none;\">\n",
              "        \n",
              "  <svg xmlns=\"http://www.w3.org/2000/svg\" height=\"24px\"viewBox=\"0 0 24 24\"\n",
              "       width=\"24px\">\n",
              "    <path d=\"M0 0h24v24H0V0z\" fill=\"none\"/>\n",
              "    <path d=\"M18.56 5.44l.94 2.06.94-2.06 2.06-.94-2.06-.94-.94-2.06-.94 2.06-2.06.94zm-11 1L8.5 8.5l.94-2.06 2.06-.94-2.06-.94L8.5 2.5l-.94 2.06-2.06.94zm10 10l.94 2.06.94-2.06 2.06-.94-2.06-.94-.94-2.06-.94 2.06-2.06.94z\"/><path d=\"M17.41 7.96l-1.37-1.37c-.4-.4-.92-.59-1.43-.59-.52 0-1.04.2-1.43.59L10.3 9.45l-7.72 7.72c-.78.78-.78 2.05 0 2.83L4 21.41c.39.39.9.59 1.41.59.51 0 1.02-.2 1.41-.59l7.78-7.78 2.81-2.81c.8-.78.8-2.07 0-2.86zM5.41 20L4 18.59l7.72-7.72 1.47 1.35L5.41 20z\"/>\n",
              "  </svg>\n",
              "      </button>\n",
              "      \n",
              "  <style>\n",
              "    .colab-df-container {\n",
              "      display:flex;\n",
              "      flex-wrap:wrap;\n",
              "      gap: 12px;\n",
              "    }\n",
              "\n",
              "    .colab-df-convert {\n",
              "      background-color: #E8F0FE;\n",
              "      border: none;\n",
              "      border-radius: 50%;\n",
              "      cursor: pointer;\n",
              "      display: none;\n",
              "      fill: #1967D2;\n",
              "      height: 32px;\n",
              "      padding: 0 0 0 0;\n",
              "      width: 32px;\n",
              "    }\n",
              "\n",
              "    .colab-df-convert:hover {\n",
              "      background-color: #E2EBFA;\n",
              "      box-shadow: 0px 1px 2px rgba(60, 64, 67, 0.3), 0px 1px 3px 1px rgba(60, 64, 67, 0.15);\n",
              "      fill: #174EA6;\n",
              "    }\n",
              "\n",
              "    [theme=dark] .colab-df-convert {\n",
              "      background-color: #3B4455;\n",
              "      fill: #D2E3FC;\n",
              "    }\n",
              "\n",
              "    [theme=dark] .colab-df-convert:hover {\n",
              "      background-color: #434B5C;\n",
              "      box-shadow: 0px 1px 3px 1px rgba(0, 0, 0, 0.15);\n",
              "      filter: drop-shadow(0px 1px 2px rgba(0, 0, 0, 0.3));\n",
              "      fill: #FFFFFF;\n",
              "    }\n",
              "  </style>\n",
              "\n",
              "      <script>\n",
              "        const buttonEl =\n",
              "          document.querySelector('#df-49e31035-feb6-42ad-877e-1de2750efe99 button.colab-df-convert');\n",
              "        buttonEl.style.display =\n",
              "          google.colab.kernel.accessAllowed ? 'block' : 'none';\n",
              "\n",
              "        async function convertToInteractive(key) {\n",
              "          const element = document.querySelector('#df-49e31035-feb6-42ad-877e-1de2750efe99');\n",
              "          const dataTable =\n",
              "            await google.colab.kernel.invokeFunction('convertToInteractive',\n",
              "                                                     [key], {});\n",
              "          if (!dataTable) return;\n",
              "\n",
              "          const docLinkHtml = 'Like what you see? Visit the ' +\n",
              "            '<a target=\"_blank\" href=https://colab.research.google.com/notebooks/data_table.ipynb>data table notebook</a>'\n",
              "            + ' to learn more about interactive tables.';\n",
              "          element.innerHTML = '';\n",
              "          dataTable['output_type'] = 'display_data';\n",
              "          await google.colab.output.renderOutput(dataTable, element);\n",
              "          const docLink = document.createElement('div');\n",
              "          docLink.innerHTML = docLinkHtml;\n",
              "          element.appendChild(docLink);\n",
              "        }\n",
              "      </script>\n",
              "    </div>\n",
              "  </div>\n",
              "  "
            ]
          },
          "metadata": {},
          "execution_count": 128
        }
      ],
      "source": [
        "df.describe()"
      ]
    },
    {
      "cell_type": "code",
      "execution_count": 129,
      "id": "e1d36c3e",
      "metadata": {
        "colab": {
          "base_uri": "https://localhost:8080/"
        },
        "id": "e1d36c3e",
        "outputId": "b845312d-6ade-431e-b067-c9959ec3efbe"
      },
      "outputs": [
        {
          "output_type": "execute_result",
          "data": {
            "text/plain": [
              "Year                  0\n",
              "Month                 0\n",
              "Day                   0\n",
              "Hour                  0\n",
              "Minute                0\n",
              "Clearsky DHI          0\n",
              "Clearsky DNI          0\n",
              "Clearsky GHI          0\n",
              "Cloud Type            0\n",
              "Dew Point             0\n",
              "Temperature           0\n",
              "Pressure              0\n",
              "Relative Humidity     0\n",
              "Solar Zenith Angle    0\n",
              "Precipitable Water    0\n",
              "Wind Direction        0\n",
              "Wind Speed            0\n",
              "Fill Flag             0\n",
              "dtype: int64"
            ]
          },
          "metadata": {},
          "execution_count": 129
        }
      ],
      "source": [
        "df.isna().sum()"
      ]
    },
    {
      "cell_type": "code",
      "execution_count": 130,
      "id": "42053575",
      "metadata": {
        "colab": {
          "base_uri": "https://localhost:8080/"
        },
        "id": "42053575",
        "outputId": "f98141fd-9f17-40be-d301-75a0b940a931"
      },
      "outputs": [
        {
          "output_type": "execute_result",
          "data": {
            "text/plain": [
              "0"
            ]
          },
          "metadata": {},
          "execution_count": 130
        }
      ],
      "source": [
        "df.duplicated().sum()"
      ]
    },
    {
      "cell_type": "code",
      "execution_count": 131,
      "id": "08c93962",
      "metadata": {
        "colab": {
          "base_uri": "https://localhost:8080/",
          "height": 611
        },
        "id": "08c93962",
        "outputId": "6f772fb0-9302-4e41-d52e-344102ccd2ec"
      },
      "outputs": [
        {
          "output_type": "execute_result",
          "data": {
            "text/plain": [
              "<AxesSubplot:>"
            ]
          },
          "metadata": {},
          "execution_count": 131
        },
        {
          "output_type": "display_data",
          "data": {
            "text/plain": [
              "<Figure size 1080x936 with 2 Axes>"
            ],
            "image/png": "[encoded data removed]"
          },
          "metadata": {
            "needs_background": "light"
          }
        }
      ],
      "source": [
        "plt.figure(figsize= (15,13))\n",
        "sns.heatmap(df.corr(), cmap=\"YlGnBu\", annot = True, linewidth= 1, linecolor= 'red' )"
      ]
    },
    {
      "cell_type": "code",
      "execution_count": 132,
      "id": "0d086738",
      "metadata": {
        "id": "0d086738"
      },
      "outputs": [],
      "source": [
        "def plot_relation(col_name_x, col_name_y, df):\n",
        "    plt.figure(figsize=(15,10))\n",
        "    sns.barplot(x= col_name_x, y= col_name_y, data=df)"
      ]
    },
    {
      "cell_type": "code",
      "execution_count": 133,
      "id": "50abae60",
      "metadata": {
        "colab": {
          "base_uri": "https://localhost:8080/",
          "height": 428
        },
        "id": "50abae60",
        "outputId": "5635f2f8-35aa-41bf-b187-477eb6649051"
      },
      "outputs": [
        {
          "output_type": "display_data",
          "data": {
            "text/plain": [
              "<Figure size 1080x720 with 1 Axes>"
            ],
            "image/png": "[encoded data removed]"
          },
          "metadata": {
            "needs_background": "light"
          }
        }
      ],
      "source": [
        "plot_relation('Clearsky DHI', 'Clearsky DNI', df)"
      ]
    },
    {
      "cell_type": "code",
      "execution_count": 134,
      "id": "55e60994",
      "metadata": {
        "colab": {
          "base_uri": "https://localhost:8080/",
          "height": 428
        },
        "id": "55e60994",
        "outputId": "f4ad190a-742a-42f5-eec7-69fc36626337"
      },
      "outputs": [
        {
          "output_type": "display_data",
          "data": {
            "text/plain": [
              "<Figure size 1080x720 with 1 Axes>"
            ],
            "image/png": "[encoded data removed]"
          },
          "metadata": {
            "needs_background": "light"
          }
        }
      ],
      "source": [
        "plot_relation('Clearsky DHI', 'Clearsky GHI', df)"
      ]
    },
    {
      "cell_type": "code",
      "execution_count": 135,
      "id": "28813831",
      "metadata": {
        "colab": {
          "base_uri": "https://localhost:8080/",
          "height": 427
        },
        "id": "28813831",
        "outputId": "60a6ab0d-12f3-4d29-de69-ec05aba05e2a"
      },
      "outputs": [
        {
          "output_type": "display_data",
          "data": {
            "text/plain": [
              "<Figure size 1080x720 with 1 Axes>"
            ],
            "image/png": "[encoded data removed]"
          },
          "metadata": {
            "needs_background": "light"
          }
        }
      ],
      "source": [
        "plot_relation('Clearsky DNI', 'Clearsky GHI', df)"
      ]
    },
    {
      "cell_type": "code",
      "execution_count": 136,
      "id": "08dc4064",
      "metadata": {
        "colab": {
          "base_uri": "https://localhost:8080/",
          "height": 407
        },
        "id": "08dc4064",
        "outputId": "72f6cd50-f1d7-4dc9-ce12-042f7cce2dbc"
      },
      "outputs": [
        {
          "output_type": "error",
          "ename": "KeyboardInterrupt",
          "evalue": "ignored",
          "traceback": [
            "\u001b[0;31m---------------------------------------------------------------------------\u001b[0m",
            "\u001b[0;31mKeyboardInterrupt\u001b[0m                         Traceback (most recent call last)",
            "\u001b[0;32m<ipython-input-136-68404a853d7a>\u001b[0m in \u001b[0;36m<module>\u001b[0;34m\u001b[0m\n\u001b[0;32m----> 1\u001b[0;31m \u001b[0mplot_relation\u001b[0m\u001b[0;34m(\u001b[0m\u001b[0;34m'Clearsky DNI'\u001b[0m\u001b[0;34m,\u001b[0m \u001b[0;34m'Hour'\u001b[0m\u001b[0;34m,\u001b[0m \u001b[0mdf\u001b[0m\u001b[0;34m)\u001b[0m\u001b[0;34m\u001b[0m\u001b[0;34m\u001b[0m\u001b[0m\n\u001b[0m",
            "\u001b[0;32m<ipython-input-132-584038106584>\u001b[0m in \u001b[0;36mplot_relation\u001b[0;34m(col_name_x, col_name_y, df)\u001b[0m\n\u001b[1;32m      1\u001b[0m \u001b[0;32mdef\u001b[0m \u001b[0mplot_relation\u001b[0m\u001b[0;34m(\u001b[0m\u001b[0mcol_name_x\u001b[0m\u001b[0;34m,\u001b[0m \u001b[0mcol_name_y\u001b[0m\u001b[0;34m,\u001b[0m \u001b[0mdf\u001b[0m\u001b[0;34m)\u001b[0m\u001b[0;34m:\u001b[0m\u001b[0;34m\u001b[0m\u001b[0;34m\u001b[0m\u001b[0m\n\u001b[1;32m      2\u001b[0m     \u001b[0mplt\u001b[0m\u001b[0;34m.\u001b[0m\u001b[0mfigure\u001b[0m\u001b[0;34m(\u001b[0m\u001b[0mfigsize\u001b[0m\u001b[0;34m=\u001b[0m\u001b[0;34m(\u001b[0m\u001b[0;36m15\u001b[0m\u001b[0;34m,\u001b[0m\u001b[0;36m10\u001b[0m\u001b[0;34m)\u001b[0m\u001b[0;34m)\u001b[0m\u001b[0;34m\u001b[0m\u001b[0;34m\u001b[0m\u001b[0m\n\u001b[0;32m----> 3\u001b[0;31m     \u001b[0msns\u001b[0m\u001b[0;34m.\u001b[0m\u001b[0mbarplot\u001b[0m\u001b[0;34m(\u001b[0m\u001b[0mx\u001b[0m\u001b[0;34m=\u001b[0m \u001b[0mcol_name_x\u001b[0m\u001b[0;34m,\u001b[0m \u001b[0my\u001b[0m\u001b[0;34m=\u001b[0m \u001b[0mcol_name_y\u001b[0m\u001b[0;34m,\u001b[0m \u001b[0mdata\u001b[0m\u001b[0;34m=\u001b[0m\u001b[0mdf\u001b[0m\u001b[0;34m)\u001b[0m\u001b[0;34m\u001b[0m\u001b[0;34m\u001b[0m\u001b[0m\n\u001b[0m",
            "\u001b[0;32m/usr/local/lib/python3.8/dist-packages/seaborn/_decorators.py\u001b[0m in \u001b[0;36minner_f\u001b[0;34m(*args, **kwargs)\u001b[0m\n\u001b[1;32m     44\u001b[0m             )\n\u001b[1;32m     45\u001b[0m         \u001b[0mkwargs\u001b[0m\u001b[0;34m.\u001b[0m\u001b[0mupdate\u001b[0m\u001b[0;34m(\u001b[0m\u001b[0;34m{\u001b[0m\u001b[0mk\u001b[0m\u001b[0;34m:\u001b[0m \u001b[0marg\u001b[0m \u001b[0;32mfor\u001b[0m \u001b[0mk\u001b[0m\u001b[0;34m,\u001b[0m \u001b[0marg\u001b[0m \u001b[0;32min\u001b[0m \u001b[0mzip\u001b[0m\u001b[0;34m(\u001b[0m\u001b[0msig\u001b[0m\u001b[0;34m.\u001b[0m\u001b[0mparameters\u001b[0m\u001b[0;34m,\u001b[0m \u001b[0margs\u001b[0m\u001b[0;34m)\u001b[0m\u001b[0;34m}\u001b[0m\u001b[0;34m)\u001b[0m\u001b[0;34m\u001b[0m\u001b[0;34m\u001b[0m\u001b[0m\n\u001b[0;32m---> 46\u001b[0;31m         \u001b[0;32mreturn\u001b[0m \u001b[0mf\u001b[0m\u001b[0;34m(\u001b[0m\u001b[0;34m**\u001b[0m\u001b[0mkwargs\u001b[0m\u001b[0;34m)\u001b[0m\u001b[0;34m\u001b[0m\u001b[0;34m\u001b[0m\u001b[0m\n\u001b[0m\u001b[1;32m     47\u001b[0m     \u001b[0;32mreturn\u001b[0m \u001b[0minner_f\u001b[0m\u001b[0;34m\u001b[0m\u001b[0;34m\u001b[0m\u001b[0m\n\u001b[1;32m     48\u001b[0m \u001b[0;34m\u001b[0m\u001b[0m\n",
            "\u001b[0;32m/usr/local/lib/python3.8/dist-packages/seaborn/categorical.py\u001b[0m in \u001b[0;36mbarplot\u001b[0;34m(x, y, hue, data, order, hue_order, estimator, ci, n_boot, units, seed, orient, color, palette, saturation, errcolor, errwidth, capsize, dodge, ax, **kwargs)\u001b[0m\n\u001b[1;32m   3180\u001b[0m ):\n\u001b[1;32m   3181\u001b[0m \u001b[0;34m\u001b[0m\u001b[0m\n\u001b[0;32m-> 3182\u001b[0;31m     plotter = _BarPlotter(x, y, hue, data, order, hue_order,\n\u001b[0m\u001b[1;32m   3183\u001b[0m                           \u001b[0mestimator\u001b[0m\u001b[0;34m,\u001b[0m \u001b[0mci\u001b[0m\u001b[0;34m,\u001b[0m \u001b[0mn_boot\u001b[0m\u001b[0;34m,\u001b[0m \u001b[0munits\u001b[0m\u001b[0;34m,\u001b[0m \u001b[0mseed\u001b[0m\u001b[0;34m,\u001b[0m\u001b[0;34m\u001b[0m\u001b[0;34m\u001b[0m\u001b[0m\n\u001b[1;32m   3184\u001b[0m                           \u001b[0morient\u001b[0m\u001b[0;34m,\u001b[0m \u001b[0mcolor\u001b[0m\u001b[0;34m,\u001b[0m \u001b[0mpalette\u001b[0m\u001b[0;34m,\u001b[0m \u001b[0msaturation\u001b[0m\u001b[0;34m,\u001b[0m\u001b[0;34m\u001b[0m\u001b[0;34m\u001b[0m\u001b[0m\n",
            "\u001b[0;32m/usr/local/lib/python3.8/dist-packages/seaborn/categorical.py\u001b[0m in \u001b[0;36m__init__\u001b[0;34m(self, x, y, hue, data, order, hue_order, estimator, ci, n_boot, units, seed, orient, color, palette, saturation, errcolor, errwidth, capsize, dodge)\u001b[0m\n\u001b[1;32m   1585\u001b[0m                                  order, hue_order, units)\n\u001b[1;32m   1586\u001b[0m         \u001b[0mself\u001b[0m\u001b[0;34m.\u001b[0m\u001b[0mestablish_colors\u001b[0m\u001b[0;34m(\u001b[0m\u001b[0mcolor\u001b[0m\u001b[0;34m,\u001b[0m \u001b[0mpalette\u001b[0m\u001b[0;34m,\u001b[0m \u001b[0msaturation\u001b[0m\u001b[0;34m)\u001b[0m\u001b[0;34m\u001b[0m\u001b[0;34m\u001b[0m\u001b[0m\n\u001b[0;32m-> 1587\u001b[0;31m         \u001b[0mself\u001b[0m\u001b[0;34m.\u001b[0m\u001b[0mestimate_statistic\u001b[0m\u001b[0;34m(\u001b[0m\u001b[0mestimator\u001b[0m\u001b[0;34m,\u001b[0m \u001b[0mci\u001b[0m\u001b[0;34m,\u001b[0m \u001b[0mn_boot\u001b[0m\u001b[0;34m,\u001b[0m \u001b[0mseed\u001b[0m\u001b[0;34m)\u001b[0m\u001b[0;34m\u001b[0m\u001b[0;34m\u001b[0m\u001b[0m\n\u001b[0m\u001b[1;32m   1588\u001b[0m \u001b[0;34m\u001b[0m\u001b[0m\n\u001b[1;32m   1589\u001b[0m         \u001b[0mself\u001b[0m\u001b[0;34m.\u001b[0m\u001b[0mdodge\u001b[0m \u001b[0;34m=\u001b[0m \u001b[0mdodge\u001b[0m\u001b[0;34m\u001b[0m\u001b[0;34m\u001b[0m\u001b[0m\n",
            "\u001b[0;32m/usr/local/lib/python3.8/dist-packages/seaborn/categorical.py\u001b[0m in \u001b[0;36mestimate_statistic\u001b[0;34m(self, estimator, ci, n_boot, seed)\u001b[0m\n\u001b[1;32m   1484\u001b[0m                     \u001b[0;32melse\u001b[0m\u001b[0;34m:\u001b[0m\u001b[0;34m\u001b[0m\u001b[0;34m\u001b[0m\u001b[0m\n\u001b[1;32m   1485\u001b[0m \u001b[0;34m\u001b[0m\u001b[0m\n\u001b[0;32m-> 1486\u001b[0;31m                         boots = bootstrap(stat_data, func=estimator,\n\u001b[0m\u001b[1;32m   1487\u001b[0m                                           \u001b[0mn_boot\u001b[0m\u001b[0;34m=\u001b[0m\u001b[0mn_boot\u001b[0m\u001b[0;34m,\u001b[0m\u001b[0;34m\u001b[0m\u001b[0;34m\u001b[0m\u001b[0m\n\u001b[1;32m   1488\u001b[0m                                           \u001b[0munits\u001b[0m\u001b[0;34m=\u001b[0m\u001b[0munit_data\u001b[0m\u001b[0;34m,\u001b[0m\u001b[0;34m\u001b[0m\u001b[0;34m\u001b[0m\u001b[0m\n",
            "\u001b[0;32m/usr/local/lib/python3.8/dist-packages/seaborn/algorithms.py\u001b[0m in \u001b[0;36mbootstrap\u001b[0;34m(*args, **kwargs)\u001b[0m\n\u001b[1;32m     83\u001b[0m         \u001b[0mresampler\u001b[0m \u001b[0;34m=\u001b[0m \u001b[0mintegers\u001b[0m\u001b[0;34m(\u001b[0m\u001b[0;36m0\u001b[0m\u001b[0;34m,\u001b[0m \u001b[0mn\u001b[0m\u001b[0;34m,\u001b[0m \u001b[0mn\u001b[0m\u001b[0;34m,\u001b[0m \u001b[0mdtype\u001b[0m\u001b[0;34m=\u001b[0m\u001b[0mnp\u001b[0m\u001b[0;34m.\u001b[0m\u001b[0mintp\u001b[0m\u001b[0;34m)\u001b[0m  \u001b[0;31m# intp is indexing dtype\u001b[0m\u001b[0;34m\u001b[0m\u001b[0;34m\u001b[0m\u001b[0m\n\u001b[1;32m     84\u001b[0m         \u001b[0msample\u001b[0m \u001b[0;34m=\u001b[0m \u001b[0;34m[\u001b[0m\u001b[0ma\u001b[0m\u001b[0;34m.\u001b[0m\u001b[0mtake\u001b[0m\u001b[0;34m(\u001b[0m\u001b[0mresampler\u001b[0m\u001b[0;34m,\u001b[0m \u001b[0maxis\u001b[0m\u001b[0;34m=\u001b[0m\u001b[0;36m0\u001b[0m\u001b[0;34m)\u001b[0m \u001b[0;32mfor\u001b[0m \u001b[0ma\u001b[0m \u001b[0;32min\u001b[0m \u001b[0margs\u001b[0m\u001b[0;34m]\u001b[0m\u001b[0;34m\u001b[0m\u001b[0;34m\u001b[0m\u001b[0m\n\u001b[0;32m---> 85\u001b[0;31m         \u001b[0mboot_dist\u001b[0m\u001b[0;34m.\u001b[0m\u001b[0mappend\u001b[0m\u001b[0;34m(\u001b[0m\u001b[0mf\u001b[0m\u001b[0;34m(\u001b[0m\u001b[0;34m*\u001b[0m\u001b[0msample\u001b[0m\u001b[0;34m,\u001b[0m \u001b[0;34m**\u001b[0m\u001b[0mfunc_kwargs\u001b[0m\u001b[0;34m)\u001b[0m\u001b[0;34m)\u001b[0m\u001b[0;34m\u001b[0m\u001b[0;34m\u001b[0m\u001b[0m\n\u001b[0m\u001b[1;32m     86\u001b[0m     \u001b[0;32mreturn\u001b[0m \u001b[0mnp\u001b[0m\u001b[0;34m.\u001b[0m\u001b[0marray\u001b[0m\u001b[0;34m(\u001b[0m\u001b[0mboot_dist\u001b[0m\u001b[0;34m)\u001b[0m\u001b[0;34m\u001b[0m\u001b[0;34m\u001b[0m\u001b[0m\n\u001b[1;32m     87\u001b[0m \u001b[0;34m\u001b[0m\u001b[0m\n",
            "\u001b[0;32m/usr/local/lib/python3.8/dist-packages/numpy/core/overrides.py\u001b[0m in \u001b[0;36mmean\u001b[0;34m(*args, **kwargs)\u001b[0m\n",
            "\u001b[0;32m/usr/local/lib/python3.8/dist-packages/numpy/core/fromnumeric.py\u001b[0m in \u001b[0;36m_mean_dispatcher\u001b[0;34m(a, axis, dtype, out, keepdims, where)\u001b[0m\n\u001b[1;32m   3349\u001b[0m \u001b[0;34m\u001b[0m\u001b[0m\n\u001b[1;32m   3350\u001b[0m \u001b[0;34m\u001b[0m\u001b[0m\n\u001b[0;32m-> 3351\u001b[0;31m def _mean_dispatcher(a, axis=None, dtype=None, out=None, keepdims=None, *,\n\u001b[0m\u001b[1;32m   3352\u001b[0m                      where=None):\n\u001b[1;32m   3353\u001b[0m     \u001b[0;32mreturn\u001b[0m \u001b[0;34m(\u001b[0m\u001b[0ma\u001b[0m\u001b[0;34m,\u001b[0m \u001b[0mwhere\u001b[0m\u001b[0;34m,\u001b[0m \u001b[0mout\u001b[0m\u001b[0;34m)\u001b[0m\u001b[0;34m\u001b[0m\u001b[0;34m\u001b[0m\u001b[0m\n",
            "\u001b[0;31mKeyboardInterrupt\u001b[0m: "
          ]
        },
        {
          "output_type": "display_data",
          "data": {
            "text/plain": [
              "<Figure size 1080x720 with 0 Axes>"
            ]
          },
          "metadata": {}
        }
      ],
      "source": [
        "plot_relation('Clearsky DNI', 'Hour', df)"
      ]
    },
    {
      "cell_type": "code",
      "execution_count": null,
      "id": "fa545253",
      "metadata": {
        "id": "fa545253"
      },
      "outputs": [],
      "source": [
        "plot_relation('Clearsky GHI', 'Hour', df)"
      ]
    },
    {
      "cell_type": "code",
      "execution_count": null,
      "id": "886b6ff2",
      "metadata": {
        "id": "886b6ff2"
      },
      "outputs": [],
      "source": [
        "plot_relation('Clearsky DHI', 'Temperature', df)"
      ]
    },
    {
      "cell_type": "code",
      "execution_count": null,
      "id": "49b32ca4",
      "metadata": {
        "id": "49b32ca4"
      },
      "outputs": [],
      "source": [
        "plot_relation('Clearsky DNI', 'Temperature', df)"
      ]
    },
    {
      "cell_type": "code",
      "execution_count": null,
      "id": "257d1309",
      "metadata": {
        "id": "257d1309"
      },
      "outputs": [],
      "source": [
        "plot_relation('Clearsky GHI', 'Temperature', df)"
      ]
    },
    {
      "cell_type": "code",
      "execution_count": null,
      "id": "2d754ecd",
      "metadata": {
        "id": "2d754ecd"
      },
      "outputs": [],
      "source": [
        "plot_relation('Dew Point', 'Temperature', df)"
      ]
    },
    {
      "cell_type": "code",
      "execution_count": null,
      "id": "6e321896",
      "metadata": {
        "id": "6e321896"
      },
      "outputs": [],
      "source": [
        "plot_relation('Dew Point', 'Precipitable Water', df)"
      ]
    },
    {
      "cell_type": "code",
      "execution_count": null,
      "id": "a041d4bd",
      "metadata": {
        "id": "a041d4bd"
      },
      "outputs": [],
      "source": [
        "plot_relation('Temperature', 'Precipitable Water', df)"
      ]
    },
    {
      "cell_type": "code",
      "execution_count": 137,
      "id": "dbdf2976",
      "metadata": {
        "id": "dbdf2976"
      },
      "outputs": [],
      "source": [
        "df_train = df[df.Year!=2018]\n",
        "df_test = df[df.Year==2018]"
      ]
    },
    {
      "cell_type": "code",
      "source": [],
      "metadata": {
        "id": "Fa5jkmM_VqTa"
      },
      "id": "Fa5jkmM_VqTa",
      "execution_count": 137,
      "outputs": []
    },
    {
      "cell_type": "code",
      "execution_count": 138,
      "id": "852d71a6",
      "metadata": {
        "colab": {
          "base_uri": "https://localhost:8080/",
          "height": 462
        },
        "id": "852d71a6",
        "outputId": "42eb06bb-19d3-4cb2-f592-e883996258a8"
      },
      "outputs": [
        {
          "output_type": "execute_result",
          "data": {
            "text/plain": [
              "        Year  Month  Day  Hour  Minute  Clearsky DHI  Clearsky DNI  \\\n",
              "83302   2013     10    2    11       0             0             0   \n",
              "144576  2017      4    1     0       0             0             0   \n",
              "102711  2014     11   10    19      30            84           862   \n",
              "122461  2015     12   27     6      30             0             0   \n",
              "120079  2015     11    7    15      30            90           811   \n",
              "31351   2010     10   16     3      30             0             0   \n",
              "146     2009      1    4     1       0             0             0   \n",
              "31887   2010     10   27     7      30             0             0   \n",
              "90433   2014      2   28     0      30             0             0   \n",
              "30021   2010      9   18    10      30             0             0   \n",
              "\n",
              "        Clearsky GHI  Cloud Type  Dew Point  Temperature  Pressure  \\\n",
              "83302              0           8       15.0         15.0      1000   \n",
              "144576             0           0       13.0         17.0      1000   \n",
              "102711           538           0        6.0         23.0      1000   \n",
              "122461             0           7       19.0         19.0      1010   \n",
              "120079           558           0       21.0         26.0      1000   \n",
              "31351              0           0        6.0         13.0      1000   \n",
              "146                0           3       15.0         15.0      1000   \n",
              "31887              0           0       22.0         22.0      1000   \n",
              "90433              0           0        1.0          3.0      1000   \n",
              "30021              0           3       19.0         22.0      1000   \n",
              "\n",
              "        Relative Humidity  Solar Zenith Angle  Precipitable Water  \\\n",
              "83302              100.00               97.21               2.376   \n",
              "144576              81.39               91.96               1.558   \n",
              "102711              35.51               58.25               1.221   \n",
              "122461             100.00              165.37               3.397   \n",
              "120079              74.01               54.80               4.238   \n",
              "31351               65.92              145.44               0.908   \n",
              "146                100.00              118.09               3.245   \n",
              "31887              100.00              144.50               3.913   \n",
              "90433               87.54              103.13               0.374   \n",
              "30021               90.69              101.62               3.778   \n",
              "\n",
              "        Wind Direction  Wind Speed  Fill Flag  \n",
              "83302             96.3         0.8          0  \n",
              "144576           292.9         1.9          0  \n",
              "102711            53.9         1.2          0  \n",
              "122461           126.5         2.2          0  \n",
              "120079           210.4         1.3          0  \n",
              "31351            341.0         1.8          0  \n",
              "146              184.6         2.0          0  \n",
              "31887            196.0         2.3          0  \n",
              "90433            310.5         1.4          0  \n",
              "30021            183.7         1.1          0  "
            ],
            "text/html": [
              "\n",
              "  <div id=\"df-48ebf4dc-d586-4128-b52b-8bb82dd186f6\">\n",
              "    <div class=\"colab-df-container\">\n",
              "      <div>\n",
              "<style scoped>\n",
              "    .dataframe tbody tr th:only-of-type {\n",
              "        vertical-align: middle;\n",
              "    }\n",
              "\n",
              "    .dataframe tbody tr th {\n",
              "        vertical-align: top;\n",
              "    }\n",
              "\n",
              "    .dataframe thead th {\n",
              "        text-align: right;\n",
              "    }\n",
              "</style>\n",
              "<table border=\"1\" class=\"dataframe\">\n",
              "  <thead>\n",
              "    <tr style=\"text-align: right;\">\n",
              "      <th></th>\n",
              "      <th>Year</th>\n",
              "      <th>Month</th>\n",
              "      <th>Day</th>\n",
              "      <th>Hour</th>\n",
              "      <th>Minute</th>\n",
              "      <th>Clearsky DHI</th>\n",
              "      <th>Clearsky DNI</th>\n",
              "      <th>Clearsky GHI</th>\n",
              "      <th>Cloud Type</th>\n",
              "      <th>Dew Point</th>\n",
              "      <th>Temperature</th>\n",
              "      <th>Pressure</th>\n",
              "      <th>Relative Humidity</th>\n",
              "      <th>Solar Zenith Angle</th>\n",
              "      <th>Precipitable Water</th>\n",
              "      <th>Wind Direction</th>\n",
              "      <th>Wind Speed</th>\n",
              "      <th>Fill Flag</th>\n",
              "    </tr>\n",
              "  </thead>\n",
              "  <tbody>\n",
              "    <tr>\n",
              "      <th>83302</th>\n",
              "      <td>2013</td>\n",
              "      <td>10</td>\n",
              "      <td>2</td>\n",
              "      <td>11</td>\n",
              "      <td>0</td>\n",
              "      <td>0</td>\n",
              "      <td>0</td>\n",
              "      <td>0</td>\n",
              "      <td>8</td>\n",
              "      <td>15.0</td>\n",
              "      <td>15.0</td>\n",
              "      <td>1000</td>\n",
              "      <td>100.00</td>\n",
              "      <td>97.21</td>\n",
              "      <td>2.376</td>\n",
              "      <td>96.3</td>\n",
              "      <td>0.8</td>\n",
              "      <td>0</td>\n",
              "    </tr>\n",
              "    <tr>\n",
              "      <th>144576</th>\n",
              "      <td>2017</td>\n",
              "      <td>4</td>\n",
              "      <td>1</td>\n",
              "      <td>0</td>\n",
              "      <td>0</td>\n",
              "      <td>0</td>\n",
              "      <td>0</td>\n",
              "      <td>0</td>\n",
              "      <td>0</td>\n",
              "      <td>13.0</td>\n",
              "      <td>17.0</td>\n",
              "      <td>1000</td>\n",
              "      <td>81.39</td>\n",
              "      <td>91.96</td>\n",
              "      <td>1.558</td>\n",
              "      <td>292.9</td>\n",
              "      <td>1.9</td>\n",
              "      <td>0</td>\n",
              "    </tr>\n",
              "    <tr>\n",
              "      <th>102711</th>\n",
              "      <td>2014</td>\n",
              "      <td>11</td>\n",
              "      <td>10</td>\n",
              "      <td>19</td>\n",
              "      <td>30</td>\n",
              "      <td>84</td>\n",
              "      <td>862</td>\n",
              "      <td>538</td>\n",
              "      <td>0</td>\n",
              "      <td>6.0</td>\n",
              "      <td>23.0</td>\n",
              "      <td>1000</td>\n",
              "      <td>35.51</td>\n",
              "      <td>58.25</td>\n",
              "      <td>1.221</td>\n",
              "      <td>53.9</td>\n",
              "      <td>1.2</td>\n",
              "      <td>0</td>\n",
              "    </tr>\n",
              "    <tr>\n",
              "      <th>122461</th>\n",
              "      <td>2015</td>\n",
              "      <td>12</td>\n",
              "      <td>27</td>\n",
              "      <td>6</td>\n",
              "      <td>30</td>\n",
              "      <td>0</td>\n",
              "      <td>0</td>\n",
              "      <td>0</td>\n",
              "      <td>7</td>\n",
              "      <td>19.0</td>\n",
              "      <td>19.0</td>\n",
              "      <td>1010</td>\n",
              "      <td>100.00</td>\n",
              "      <td>165.37</td>\n",
              "      <td>3.397</td>\n",
              "      <td>126.5</td>\n",
              "      <td>2.2</td>\n",
              "      <td>0</td>\n",
              "    </tr>\n",
              "    <tr>\n",
              "      <th>120079</th>\n",
              "      <td>2015</td>\n",
              "      <td>11</td>\n",
              "      <td>7</td>\n",
              "      <td>15</td>\n",
              "      <td>30</td>\n",
              "      <td>90</td>\n",
              "      <td>811</td>\n",
              "      <td>558</td>\n",
              "      <td>0</td>\n",
              "      <td>21.0</td>\n",
              "      <td>26.0</td>\n",
              "      <td>1000</td>\n",
              "      <td>74.01</td>\n",
              "      <td>54.80</td>\n",
              "      <td>4.238</td>\n",
              "      <td>210.4</td>\n",
              "      <td>1.3</td>\n",
              "      <td>0</td>\n",
              "    </tr>\n",
              "    <tr>\n",
              "      <th>31351</th>\n",
              "      <td>2010</td>\n",
              "      <td>10</td>\n",
              "      <td>16</td>\n",
              "      <td>3</td>\n",
              "      <td>30</td>\n",
              "      <td>0</td>\n",
              "      <td>0</td>\n",
              "      <td>0</td>\n",
              "      <td>0</td>\n",
              "      <td>6.0</td>\n",
              "      <td>13.0</td>\n",
              "      <td>1000</td>\n",
              "      <td>65.92</td>\n",
              "      <td>145.44</td>\n",
              "      <td>0.908</td>\n",
              "      <td>341.0</td>\n",
              "      <td>1.8</td>\n",
              "      <td>0</td>\n",
              "    </tr>\n",
              "    <tr>\n",
              "      <th>146</th>\n",
              "      <td>2009</td>\n",
              "      <td>1</td>\n",
              "      <td>4</td>\n",
              "      <td>1</td>\n",
              "      <td>0</td>\n",
              "      <td>0</td>\n",
              "      <td>0</td>\n",
              "      <td>0</td>\n",
              "      <td>3</td>\n",
              "      <td>15.0</td>\n",
              "      <td>15.0</td>\n",
              "      <td>1000</td>\n",
              "      <td>100.00</td>\n",
              "      <td>118.09</td>\n",
              "      <td>3.245</td>\n",
              "      <td>184.6</td>\n",
              "      <td>2.0</td>\n",
              "      <td>0</td>\n",
              "    </tr>\n",
              "    <tr>\n",
              "      <th>31887</th>\n",
              "      <td>2010</td>\n",
              "      <td>10</td>\n",
              "      <td>27</td>\n",
              "      <td>7</td>\n",
              "      <td>30</td>\n",
              "      <td>0</td>\n",
              "      <td>0</td>\n",
              "      <td>0</td>\n",
              "      <td>0</td>\n",
              "      <td>22.0</td>\n",
              "      <td>22.0</td>\n",
              "      <td>1000</td>\n",
              "      <td>100.00</td>\n",
              "      <td>144.50</td>\n",
              "      <td>3.913</td>\n",
              "      <td>196.0</td>\n",
              "      <td>2.3</td>\n",
              "      <td>0</td>\n",
              "    </tr>\n",
              "    <tr>\n",
              "      <th>90433</th>\n",
              "      <td>2014</td>\n",
              "      <td>2</td>\n",
              "      <td>28</td>\n",
              "      <td>0</td>\n",
              "      <td>30</td>\n",
              "      <td>0</td>\n",
              "      <td>0</td>\n",
              "      <td>0</td>\n",
              "      <td>0</td>\n",
              "      <td>1.0</td>\n",
              "      <td>3.0</td>\n",
              "      <td>1000</td>\n",
              "      <td>87.54</td>\n",
              "      <td>103.13</td>\n",
              "      <td>0.374</td>\n",
              "      <td>310.5</td>\n",
              "      <td>1.4</td>\n",
              "      <td>0</td>\n",
              "    </tr>\n",
              "    <tr>\n",
              "      <th>30021</th>\n",
              "      <td>2010</td>\n",
              "      <td>9</td>\n",
              "      <td>18</td>\n",
              "      <td>10</td>\n",
              "      <td>30</td>\n",
              "      <td>0</td>\n",
              "      <td>0</td>\n",
              "      <td>0</td>\n",
              "      <td>3</td>\n",
              "      <td>19.0</td>\n",
              "      <td>22.0</td>\n",
              "      <td>1000</td>\n",
              "      <td>90.69</td>\n",
              "      <td>101.62</td>\n",
              "      <td>3.778</td>\n",
              "      <td>183.7</td>\n",
              "      <td>1.1</td>\n",
              "      <td>0</td>\n",
              "    </tr>\n",
              "  </tbody>\n",
              "</table>\n",
              "</div>\n",
              "      <button class=\"colab-df-convert\" onclick=\"convertToInteractive('df-48ebf4dc-d586-4128-b52b-8bb82dd186f6')\"\n",
              "              title=\"Convert this dataframe to an interactive table.\"\n",
              "              style=\"display:none;\">\n",
              "        \n",
              "  <svg xmlns=\"http://www.w3.org/2000/svg\" height=\"24px\"viewBox=\"0 0 24 24\"\n",
              "       width=\"24px\">\n",
              "    <path d=\"M0 0h24v24H0V0z\" fill=\"none\"/>\n",
              "    <path d=\"M18.56 5.44l.94 2.06.94-2.06 2.06-.94-2.06-.94-.94-2.06-.94 2.06-2.06.94zm-11 1L8.5 8.5l.94-2.06 2.06-.94-2.06-.94L8.5 2.5l-.94 2.06-2.06.94zm10 10l.94 2.06.94-2.06 2.06-.94-2.06-.94-.94-2.06-.94 2.06-2.06.94z\"/><path d=\"M17.41 7.96l-1.37-1.37c-.4-.4-.92-.59-1.43-.59-.52 0-1.04.2-1.43.59L10.3 9.45l-7.72 7.72c-.78.78-.78 2.05 0 2.83L4 21.41c.39.39.9.59 1.41.59.51 0 1.02-.2 1.41-.59l7.78-7.78 2.81-2.81c.8-.78.8-2.07 0-2.86zM5.41 20L4 18.59l7.72-7.72 1.47 1.35L5.41 20z\"/>\n",
              "  </svg>\n",
              "      </button>\n",
              "      \n",
              "  <style>\n",
              "    .colab-df-container {\n",
              "      display:flex;\n",
              "      flex-wrap:wrap;\n",
              "      gap: 12px;\n",
              "    }\n",
              "\n",
              "    .colab-df-convert {\n",
              "      background-color: #E8F0FE;\n",
              "      border: none;\n",
              "      border-radius: 50%;\n",
              "      cursor: pointer;\n",
              "      display: none;\n",
              "      fill: #1967D2;\n",
              "      height: 32px;\n",
              "      padding: 0 0 0 0;\n",
              "      width: 32px;\n",
              "    }\n",
              "\n",
              "    .colab-df-convert:hover {\n",
              "      background-color: #E2EBFA;\n",
              "      box-shadow: 0px 1px 2px rgba(60, 64, 67, 0.3), 0px 1px 3px 1px rgba(60, 64, 67, 0.15);\n",
              "      fill: #174EA6;\n",
              "    }\n",
              "\n",
              "    [theme=dark] .colab-df-convert {\n",
              "      background-color: #3B4455;\n",
              "      fill: #D2E3FC;\n",
              "    }\n",
              "\n",
              "    [theme=dark] .colab-df-convert:hover {\n",
              "      background-color: #434B5C;\n",
              "      box-shadow: 0px 1px 3px 1px rgba(0, 0, 0, 0.15);\n",
              "      filter: drop-shadow(0px 1px 2px rgba(0, 0, 0, 0.3));\n",
              "      fill: #FFFFFF;\n",
              "    }\n",
              "  </style>\n",
              "\n",
              "      <script>\n",
              "        const buttonEl =\n",
              "          document.querySelector('#df-48ebf4dc-d586-4128-b52b-8bb82dd186f6 button.colab-df-convert');\n",
              "        buttonEl.style.display =\n",
              "          google.colab.kernel.accessAllowed ? 'block' : 'none';\n",
              "\n",
              "        async function convertToInteractive(key) {\n",
              "          const element = document.querySelector('#df-48ebf4dc-d586-4128-b52b-8bb82dd186f6');\n",
              "          const dataTable =\n",
              "            await google.colab.kernel.invokeFunction('convertToInteractive',\n",
              "                                                     [key], {});\n",
              "          if (!dataTable) return;\n",
              "\n",
              "          const docLinkHtml = 'Like what you see? Visit the ' +\n",
              "            '<a target=\"_blank\" href=https://colab.research.google.com/notebooks/data_table.ipynb>data table notebook</a>'\n",
              "            + ' to learn more about interactive tables.';\n",
              "          element.innerHTML = '';\n",
              "          dataTable['output_type'] = 'display_data';\n",
              "          await google.colab.output.renderOutput(dataTable, element);\n",
              "          const docLink = document.createElement('div');\n",
              "          docLink.innerHTML = docLinkHtml;\n",
              "          element.appendChild(docLink);\n",
              "        }\n",
              "      </script>\n",
              "    </div>\n",
              "  </div>\n",
              "  "
            ]
          },
          "metadata": {},
          "execution_count": 138
        }
      ],
      "source": [
        "df_train.sample(10)"
      ]
    },
    {
      "cell_type": "code",
      "execution_count": 139,
      "id": "a4270877",
      "metadata": {
        "colab": {
          "base_uri": "https://localhost:8080/",
          "height": 462
        },
        "id": "a4270877",
        "outputId": "1173b660-4659-4e8c-8041-1ff5d58b7f3a"
      },
      "outputs": [
        {
          "output_type": "execute_result",
          "data": {
            "text/plain": [
              "        Year  Month  Day  Hour  Minute  Clearsky DHI  Clearsky DNI  \\\n",
              "175118  2018     12   28     7       0             0             0   \n",
              "163993  2018      5   10    12      30           101           546   \n",
              "168326  2018      8    8    19       0           142           827   \n",
              "160034  2018      2   17     1       0             0             0   \n",
              "167837  2018      7   29    14      30           179           656   \n",
              "171184  2018     10    7     8       0             0             0   \n",
              "168601  2018      8   14    12      30           116           348   \n",
              "159308  2018      2    1    22       0            65           502   \n",
              "162955  2018      4   18    21      30            99           780   \n",
              "172728  2018     11    8    12       0             7            52   \n",
              "\n",
              "        Clearsky GHI  Cloud Type  Dew Point  Temperature  Pressure  \\\n",
              "175118             0           7       17.7         17.9      1007   \n",
              "163993           300           0       17.1         23.4      1009   \n",
              "168326           898           0       23.5         32.3      1006   \n",
              "160034             0           3       17.2         17.9      1009   \n",
              "167837           643           0       21.6         31.0      1006   \n",
              "171184             0           7       20.0         20.6      1009   \n",
              "168601           223           7       23.8         24.9      1006   \n",
              "159308           175           4       11.3         14.8      1009   \n",
              "162955           515           0       15.0         25.9      1004   \n",
              "172728             7           8       18.1         18.2      1006   \n",
              "\n",
              "        Relative Humidity  Solar Zenith Angle  Precipitable Water  \\\n",
              "175118              98.83              159.71                 4.0   \n",
              "163993              67.67               68.64                 2.8   \n",
              "168326              59.91               23.95                 4.8   \n",
              "160034              95.55              111.23                 2.8   \n",
              "167837              57.29               44.94                 4.6   \n",
              "171184              96.17              134.92                 2.9   \n",
              "168601              93.78               72.01                 4.8   \n",
              "159308              79.81               77.31                 2.2   \n",
              "162955              50.98               57.80                 1.6   \n",
              "172728              99.57               89.86                 3.9   \n",
              "\n",
              "        Wind Direction  Wind Speed  Fill Flag  \n",
              "175118           173.0         4.6          0  \n",
              "163993           258.0         2.6          0  \n",
              "168326           232.0         2.1          0  \n",
              "160034           265.0         1.5          0  \n",
              "167837           198.0         0.8          0  \n",
              "171184           120.0         0.9          0  \n",
              "168601           246.0         0.5          0  \n",
              "159308           204.0         1.9        100  \n",
              "162955           228.0         5.1          0  \n",
              "172728           185.0         0.9         32  "
            ],
            "text/html": [
              "\n",
              "  <div id=\"df-4de531e1-5fe4-43af-a6c1-aa726249c343\">\n",
              "    <div class=\"colab-df-container\">\n",
              "      <div>\n",
              "<style scoped>\n",
              "    .dataframe tbody tr th:only-of-type {\n",
              "        vertical-align: middle;\n",
              "    }\n",
              "\n",
              "    .dataframe tbody tr th {\n",
              "        vertical-align: top;\n",
              "    }\n",
              "\n",
              "    .dataframe thead th {\n",
              "        text-align: right;\n",
              "    }\n",
              "</style>\n",
              "<table border=\"1\" class=\"dataframe\">\n",
              "  <thead>\n",
              "    <tr style=\"text-align: right;\">\n",
              "      <th></th>\n",
              "      <th>Year</th>\n",
              "      <th>Month</th>\n",
              "      <th>Day</th>\n",
              "      <th>Hour</th>\n",
              "      <th>Minute</th>\n",
              "      <th>Clearsky DHI</th>\n",
              "      <th>Clearsky DNI</th>\n",
              "      <th>Clearsky GHI</th>\n",
              "      <th>Cloud Type</th>\n",
              "      <th>Dew Point</th>\n",
              "      <th>Temperature</th>\n",
              "      <th>Pressure</th>\n",
              "      <th>Relative Humidity</th>\n",
              "      <th>Solar Zenith Angle</th>\n",
              "      <th>Precipitable Water</th>\n",
              "      <th>Wind Direction</th>\n",
              "      <th>Wind Speed</th>\n",
              "      <th>Fill Flag</th>\n",
              "    </tr>\n",
              "  </thead>\n",
              "  <tbody>\n",
              "    <tr>\n",
              "      <th>175118</th>\n",
              "      <td>2018</td>\n",
              "      <td>12</td>\n",
              "      <td>28</td>\n",
              "      <td>7</td>\n",
              "      <td>0</td>\n",
              "      <td>0</td>\n",
              "      <td>0</td>\n",
              "      <td>0</td>\n",
              "      <td>7</td>\n",
              "      <td>17.7</td>\n",
              "      <td>17.9</td>\n",
              "      <td>1007</td>\n",
              "      <td>98.83</td>\n",
              "      <td>159.71</td>\n",
              "      <td>4.0</td>\n",
              "      <td>173.0</td>\n",
              "      <td>4.6</td>\n",
              "      <td>0</td>\n",
              "    </tr>\n",
              "    <tr>\n",
              "      <th>163993</th>\n",
              "      <td>2018</td>\n",
              "      <td>5</td>\n",
              "      <td>10</td>\n",
              "      <td>12</td>\n",
              "      <td>30</td>\n",
              "      <td>101</td>\n",
              "      <td>546</td>\n",
              "      <td>300</td>\n",
              "      <td>0</td>\n",
              "      <td>17.1</td>\n",
              "      <td>23.4</td>\n",
              "      <td>1009</td>\n",
              "      <td>67.67</td>\n",
              "      <td>68.64</td>\n",
              "      <td>2.8</td>\n",
              "      <td>258.0</td>\n",
              "      <td>2.6</td>\n",
              "      <td>0</td>\n",
              "    </tr>\n",
              "    <tr>\n",
              "      <th>168326</th>\n",
              "      <td>2018</td>\n",
              "      <td>8</td>\n",
              "      <td>8</td>\n",
              "      <td>19</td>\n",
              "      <td>0</td>\n",
              "      <td>142</td>\n",
              "      <td>827</td>\n",
              "      <td>898</td>\n",
              "      <td>0</td>\n",
              "      <td>23.5</td>\n",
              "      <td>32.3</td>\n",
              "      <td>1006</td>\n",
              "      <td>59.91</td>\n",
              "      <td>23.95</td>\n",
              "      <td>4.8</td>\n",
              "      <td>232.0</td>\n",
              "      <td>2.1</td>\n",
              "      <td>0</td>\n",
              "    </tr>\n",
              "    <tr>\n",
              "      <th>160034</th>\n",
              "      <td>2018</td>\n",
              "      <td>2</td>\n",
              "      <td>17</td>\n",
              "      <td>1</td>\n",
              "      <td>0</td>\n",
              "      <td>0</td>\n",
              "      <td>0</td>\n",
              "      <td>0</td>\n",
              "      <td>3</td>\n",
              "      <td>17.2</td>\n",
              "      <td>17.9</td>\n",
              "      <td>1009</td>\n",
              "      <td>95.55</td>\n",
              "      <td>111.23</td>\n",
              "      <td>2.8</td>\n",
              "      <td>265.0</td>\n",
              "      <td>1.5</td>\n",
              "      <td>0</td>\n",
              "    </tr>\n",
              "    <tr>\n",
              "      <th>167837</th>\n",
              "      <td>2018</td>\n",
              "      <td>7</td>\n",
              "      <td>29</td>\n",
              "      <td>14</td>\n",
              "      <td>30</td>\n",
              "      <td>179</td>\n",
              "      <td>656</td>\n",
              "      <td>643</td>\n",
              "      <td>0</td>\n",
              "      <td>21.6</td>\n",
              "      <td>31.0</td>\n",
              "      <td>1006</td>\n",
              "      <td>57.29</td>\n",
              "      <td>44.94</td>\n",
              "      <td>4.6</td>\n",
              "      <td>198.0</td>\n",
              "      <td>0.8</td>\n",
              "      <td>0</td>\n",
              "    </tr>\n",
              "    <tr>\n",
              "      <th>171184</th>\n",
              "      <td>2018</td>\n",
              "      <td>10</td>\n",
              "      <td>7</td>\n",
              "      <td>8</td>\n",
              "      <td>0</td>\n",
              "      <td>0</td>\n",
              "      <td>0</td>\n",
              "      <td>0</td>\n",
              "      <td>7</td>\n",
              "      <td>20.0</td>\n",
              "      <td>20.6</td>\n",
              "      <td>1009</td>\n",
              "      <td>96.17</td>\n",
              "      <td>134.92</td>\n",
              "      <td>2.9</td>\n",
              "      <td>120.0</td>\n",
              "      <td>0.9</td>\n",
              "      <td>0</td>\n",
              "    </tr>\n",
              "    <tr>\n",
              "      <th>168601</th>\n",
              "      <td>2018</td>\n",
              "      <td>8</td>\n",
              "      <td>14</td>\n",
              "      <td>12</td>\n",
              "      <td>30</td>\n",
              "      <td>116</td>\n",
              "      <td>348</td>\n",
              "      <td>223</td>\n",
              "      <td>7</td>\n",
              "      <td>23.8</td>\n",
              "      <td>24.9</td>\n",
              "      <td>1006</td>\n",
              "      <td>93.78</td>\n",
              "      <td>72.01</td>\n",
              "      <td>4.8</td>\n",
              "      <td>246.0</td>\n",
              "      <td>0.5</td>\n",
              "      <td>0</td>\n",
              "    </tr>\n",
              "    <tr>\n",
              "      <th>159308</th>\n",
              "      <td>2018</td>\n",
              "      <td>2</td>\n",
              "      <td>1</td>\n",
              "      <td>22</td>\n",
              "      <td>0</td>\n",
              "      <td>65</td>\n",
              "      <td>502</td>\n",
              "      <td>175</td>\n",
              "      <td>4</td>\n",
              "      <td>11.3</td>\n",
              "      <td>14.8</td>\n",
              "      <td>1009</td>\n",
              "      <td>79.81</td>\n",
              "      <td>77.31</td>\n",
              "      <td>2.2</td>\n",
              "      <td>204.0</td>\n",
              "      <td>1.9</td>\n",
              "      <td>100</td>\n",
              "    </tr>\n",
              "    <tr>\n",
              "      <th>162955</th>\n",
              "      <td>2018</td>\n",
              "      <td>4</td>\n",
              "      <td>18</td>\n",
              "      <td>21</td>\n",
              "      <td>30</td>\n",
              "      <td>99</td>\n",
              "      <td>780</td>\n",
              "      <td>515</td>\n",
              "      <td>0</td>\n",
              "      <td>15.0</td>\n",
              "      <td>25.9</td>\n",
              "      <td>1004</td>\n",
              "      <td>50.98</td>\n",
              "      <td>57.80</td>\n",
              "      <td>1.6</td>\n",
              "      <td>228.0</td>\n",
              "      <td>5.1</td>\n",
              "      <td>0</td>\n",
              "    </tr>\n",
              "    <tr>\n",
              "      <th>172728</th>\n",
              "      <td>2018</td>\n",
              "      <td>11</td>\n",
              "      <td>8</td>\n",
              "      <td>12</td>\n",
              "      <td>0</td>\n",
              "      <td>7</td>\n",
              "      <td>52</td>\n",
              "      <td>7</td>\n",
              "      <td>8</td>\n",
              "      <td>18.1</td>\n",
              "      <td>18.2</td>\n",
              "      <td>1006</td>\n",
              "      <td>99.57</td>\n",
              "      <td>89.86</td>\n",
              "      <td>3.9</td>\n",
              "      <td>185.0</td>\n",
              "      <td>0.9</td>\n",
              "      <td>32</td>\n",
              "    </tr>\n",
              "  </tbody>\n",
              "</table>\n",
              "</div>\n",
              "      <button class=\"colab-df-convert\" onclick=\"convertToInteractive('df-4de531e1-5fe4-43af-a6c1-aa726249c343')\"\n",
              "              title=\"Convert this dataframe to an interactive table.\"\n",
              "              style=\"display:none;\">\n",
              "        \n",
              "  <svg xmlns=\"http://www.w3.org/2000/svg\" height=\"24px\"viewBox=\"0 0 24 24\"\n",
              "       width=\"24px\">\n",
              "    <path d=\"M0 0h24v24H0V0z\" fill=\"none\"/>\n",
              "    <path d=\"M18.56 5.44l.94 2.06.94-2.06 2.06-.94-2.06-.94-.94-2.06-.94 2.06-2.06.94zm-11 1L8.5 8.5l.94-2.06 2.06-.94-2.06-.94L8.5 2.5l-.94 2.06-2.06.94zm10 10l.94 2.06.94-2.06 2.06-.94-2.06-.94-.94-2.06-.94 2.06-2.06.94z\"/><path d=\"M17.41 7.96l-1.37-1.37c-.4-.4-.92-.59-1.43-.59-.52 0-1.04.2-1.43.59L10.3 9.45l-7.72 7.72c-.78.78-.78 2.05 0 2.83L4 21.41c.39.39.9.59 1.41.59.51 0 1.02-.2 1.41-.59l7.78-7.78 2.81-2.81c.8-.78.8-2.07 0-2.86zM5.41 20L4 18.59l7.72-7.72 1.47 1.35L5.41 20z\"/>\n",
              "  </svg>\n",
              "      </button>\n",
              "      \n",
              "  <style>\n",
              "    .colab-df-container {\n",
              "      display:flex;\n",
              "      flex-wrap:wrap;\n",
              "      gap: 12px;\n",
              "    }\n",
              "\n",
              "    .colab-df-convert {\n",
              "      background-color: #E8F0FE;\n",
              "      border: none;\n",
              "      border-radius: 50%;\n",
              "      cursor: pointer;\n",
              "      display: none;\n",
              "      fill: #1967D2;\n",
              "      height: 32px;\n",
              "      padding: 0 0 0 0;\n",
              "      width: 32px;\n",
              "    }\n",
              "\n",
              "    .colab-df-convert:hover {\n",
              "      background-color: #E2EBFA;\n",
              "      box-shadow: 0px 1px 2px rgba(60, 64, 67, 0.3), 0px 1px 3px 1px rgba(60, 64, 67, 0.15);\n",
              "      fill: #174EA6;\n",
              "    }\n",
              "\n",
              "    [theme=dark] .colab-df-convert {\n",
              "      background-color: #3B4455;\n",
              "      fill: #D2E3FC;\n",
              "    }\n",
              "\n",
              "    [theme=dark] .colab-df-convert:hover {\n",
              "      background-color: #434B5C;\n",
              "      box-shadow: 0px 1px 3px 1px rgba(0, 0, 0, 0.15);\n",
              "      filter: drop-shadow(0px 1px 2px rgba(0, 0, 0, 0.3));\n",
              "      fill: #FFFFFF;\n",
              "    }\n",
              "  </style>\n",
              "\n",
              "      <script>\n",
              "        const buttonEl =\n",
              "          document.querySelector('#df-4de531e1-5fe4-43af-a6c1-aa726249c343 button.colab-df-convert');\n",
              "        buttonEl.style.display =\n",
              "          google.colab.kernel.accessAllowed ? 'block' : 'none';\n",
              "\n",
              "        async function convertToInteractive(key) {\n",
              "          const element = document.querySelector('#df-4de531e1-5fe4-43af-a6c1-aa726249c343');\n",
              "          const dataTable =\n",
              "            await google.colab.kernel.invokeFunction('convertToInteractive',\n",
              "                                                     [key], {});\n",
              "          if (!dataTable) return;\n",
              "\n",
              "          const docLinkHtml = 'Like what you see? Visit the ' +\n",
              "            '<a target=\"_blank\" href=https://colab.research.google.com/notebooks/data_table.ipynb>data table notebook</a>'\n",
              "            + ' to learn more about interactive tables.';\n",
              "          element.innerHTML = '';\n",
              "          dataTable['output_type'] = 'display_data';\n",
              "          await google.colab.output.renderOutput(dataTable, element);\n",
              "          const docLink = document.createElement('div');\n",
              "          docLink.innerHTML = docLinkHtml;\n",
              "          element.appendChild(docLink);\n",
              "        }\n",
              "      </script>\n",
              "    </div>\n",
              "  </div>\n",
              "  "
            ]
          },
          "metadata": {},
          "execution_count": 139
        }
      ],
      "source": [
        "df_test.sample(10)"
      ]
    },
    {
      "cell_type": "markdown",
      "id": "fbe9f709",
      "metadata": {
        "id": "fbe9f709"
      },
      "source": [
        "# DNI"
      ]
    },
    {
      "cell_type": "code",
      "execution_count": 140,
      "id": "083a7b09",
      "metadata": {
        "id": "083a7b09"
      },
      "outputs": [],
      "source": [
        "X_train = df_train.drop(columns=['Year','Clearsky DHI','Clearsky DNI','Clearsky GHI'])\n",
        "DNI_train = df_train['Clearsky DNI'].values\n",
        "X_test = df_test.drop(columns=['Year','Clearsky DHI','Clearsky DNI','Clearsky GHI'])\n",
        "DNI_test = df_test['Clearsky DNI'].values"
      ]
    },
    {
      "cell_type": "code",
      "execution_count": 141,
      "id": "9c4a99b9",
      "metadata": {
        "colab": {
          "base_uri": "https://localhost:8080/"
        },
        "id": "9c4a99b9",
        "outputId": "89b33018-ab63-4e97-d2d3-a8d3368958a4"
      },
      "outputs": [
        {
          "output_type": "execute_result",
          "data": {
            "text/plain": [
              "array([ 155.82509054,  112.09467605,   87.61352598, ..., -498.16582582,\n",
              "        356.06983726,  323.65923646])"
            ]
          },
          "metadata": {},
          "execution_count": 141
        }
      ],
      "source": [
        "linr = LinearRegression()\n",
        "clf = linr.fit(X_train, DNI_train)\n",
        "DNI_pred = clf.predict(X_test)\n",
        "DNI_pred"
      ]
    },
    {
      "cell_type": "code",
      "execution_count": 142,
      "id": "8333e90d",
      "metadata": {
        "colab": {
          "base_uri": "https://localhost:8080/"
        },
        "id": "8333e90d",
        "outputId": "67bc1950-649d-4bfa-f39e-17e6f5ba0ca2"
      },
      "outputs": [
        {
          "output_type": "execute_result",
          "data": {
            "text/plain": [
              "114893.45885016886"
            ]
          },
          "metadata": {},
          "execution_count": 142
        }
      ],
      "source": [
        "MSE=mean_squared_error(DNI_test, DNI_pred)\n",
        "MSE"
      ]
    },
    {
      "cell_type": "code",
      "execution_count": 143,
      "id": "b6edc255",
      "metadata": {
        "colab": {
          "base_uri": "https://localhost:8080/"
        },
        "id": "b6edc255",
        "outputId": "f3f2f484-21b0-4e56-e8d9-8bc6c8ec9ec2"
      },
      "outputs": [
        {
          "output_type": "execute_result",
          "data": {
            "text/plain": [
              "338.95937640102073"
            ]
          },
          "metadata": {},
          "execution_count": 143
        }
      ],
      "source": [
        "RMSE = np.sqrt(MSE)\n",
        "RMSE"
      ]
    },
    {
      "cell_type": "code",
      "execution_count": 144,
      "id": "73c8368e",
      "metadata": {
        "colab": {
          "base_uri": "https://localhost:8080/"
        },
        "id": "73c8368e",
        "outputId": "b1cc5f35-040c-4fc4-a656-2798dca9776a"
      },
      "outputs": [
        {
          "output_type": "execute_result",
          "data": {
            "text/plain": [
              "array([ 0,  0,  0, ..., 22,  0,  0])"
            ]
          },
          "metadata": {},
          "execution_count": 144
        }
      ],
      "source": [
        "dtc = DecisionTreeClassifier()\n",
        "dtc_clf = dtc.fit(X_train, DNI_train)\n",
        "DNI_pred1 = dtc_clf.predict(X_test)\n",
        "DNI_pred1"
      ]
    },
    {
      "cell_type": "code",
      "execution_count": 145,
      "id": "2da5b84d",
      "metadata": {
        "colab": {
          "base_uri": "https://localhost:8080/"
        },
        "id": "2da5b84d",
        "outputId": "dd0246e4-1100-453b-d3ec-e21342402744"
      },
      "outputs": [
        {
          "output_type": "stream",
          "name": "stdout",
          "text": [
            "3295.483219178082\n"
          ]
        }
      ],
      "source": [
        "print(mean_squared_error(DNI_test, DNI_pred1))"
      ]
    },
    {
      "cell_type": "code",
      "execution_count": 146,
      "id": "d0ee5d6b",
      "metadata": {
        "colab": {
          "base_uri": "https://localhost:8080/"
        },
        "id": "d0ee5d6b",
        "outputId": "bb0ceb44-da1c-4c50-a3d6-214358e3e8f4"
      },
      "outputs": [
        {
          "output_type": "stream",
          "name": "stdout",
          "text": [
            "57.40629947295054\n"
          ]
        }
      ],
      "source": [
        "print(np.sqrt(mean_squared_error(DNI_test, DNI_pred1)))"
      ]
    },
    {
      "cell_type": "code",
      "execution_count": 147,
      "id": "564fc95a",
      "metadata": {
        "colab": {
          "base_uri": "https://localhost:8080/"
        },
        "id": "564fc95a",
        "outputId": "e35e32fd-d256-4ad5-a399-4ae054861ed0"
      },
      "outputs": [
        {
          "output_type": "execute_result",
          "data": {
            "text/plain": [
              "array([-1.5596439, -3.0404794,  1.5277959, ..., 85.38364  ,  3.3316185,\n",
              "        5.1529756], dtype=float32)"
            ]
          },
          "metadata": {},
          "execution_count": 147
        }
      ],
      "source": [
        "xgbr = XGBRegressor()\n",
        "xgbr_clf = xgbr.fit(X_train, DNI_train)\n",
        "DNI_pred2 = xgbr_clf.predict(X_test)\n",
        "DNI_pred2"
      ]
    },
    {
      "cell_type": "code",
      "execution_count": 148,
      "id": "44fc22a9",
      "metadata": {
        "colab": {
          "base_uri": "https://localhost:8080/"
        },
        "id": "44fc22a9",
        "outputId": "550db7fd-3a6f-4f83-8b12-eae73d488636"
      },
      "outputs": [
        {
          "output_type": "stream",
          "name": "stdout",
          "text": [
            "1608.3886924843612\n"
          ]
        }
      ],
      "source": [
        "print(mean_squared_error(DNI_test, DNI_pred2))"
      ]
    },
    {
      "cell_type": "code",
      "execution_count": 149,
      "id": "9bd60a8e",
      "metadata": {
        "colab": {
          "base_uri": "https://localhost:8080/"
        },
        "id": "9bd60a8e",
        "outputId": "de1129ec-1ec3-47f5-be7a-0a30e60d421f"
      },
      "outputs": [
        {
          "output_type": "stream",
          "name": "stdout",
          "text": [
            "40.10472157345518\n"
          ]
        }
      ],
      "source": [
        "print(np.sqrt(mean_squared_error(DNI_test, DNI_pred2)))"
      ]
    },
    {
      "cell_type": "markdown",
      "id": "aa71ca82",
      "metadata": {
        "id": "aa71ca82"
      },
      "source": [
        "# DHI"
      ]
    },
    {
      "cell_type": "code",
      "execution_count": 150,
      "id": "0e4d9c7c",
      "metadata": {
        "id": "0e4d9c7c"
      },
      "outputs": [],
      "source": [
        "X_train = df_train.drop(columns=['Year','Clearsky DHI','Clearsky GHI'])\n",
        "DHI_train = df_train['Clearsky DHI'].values\n",
        "X_test = df_test.drop(columns=['Year','Clearsky DHI','Clearsky DNI','Clearsky GHI'])\n",
        "X_test.insert(4, \"Clearsky DNI\", DNI_pred2)\n",
        "DHI_test = df_test['Clearsky DHI'].values"
      ]
    },
    {
      "cell_type": "code",
      "execution_count": 151,
      "id": "898acbe9",
      "metadata": {
        "colab": {
          "base_uri": "https://localhost:8080/"
        },
        "id": "898acbe9",
        "outputId": "0fd05d06-ae00-40e7-da1f-9c32a7f33534"
      },
      "outputs": [
        {
          "output_type": "execute_result",
          "data": {
            "text/plain": [
              "array([ 10.68056014,   5.60864682,   1.29804891, ..., -75.78160473,\n",
              "        30.53081913,  27.23988214])"
            ]
          },
          "metadata": {},
          "execution_count": 151
        }
      ],
      "source": [
        "linr = LinearRegression()\n",
        "clf = linr.fit(X_train, DHI_train)\n",
        "DHI_pred = clf.predict(X_test)\n",
        "DHI_pred"
      ]
    },
    {
      "cell_type": "code",
      "execution_count": 152,
      "id": "afa4c32c",
      "metadata": {
        "colab": {
          "base_uri": "https://localhost:8080/"
        },
        "id": "afa4c32c",
        "outputId": "c734346b-cfa6-4b8c-9ee3-7587b7a759ed"
      },
      "outputs": [
        {
          "output_type": "execute_result",
          "data": {
            "text/plain": [
              "1993.157401402222"
            ]
          },
          "metadata": {},
          "execution_count": 152
        }
      ],
      "source": [
        "MSE=mean_squared_error(DHI_test, DHI_pred)\n",
        "MSE"
      ]
    },
    {
      "cell_type": "code",
      "execution_count": 153,
      "id": "1a16e321",
      "metadata": {
        "colab": {
          "base_uri": "https://localhost:8080/"
        },
        "id": "1a16e321",
        "outputId": "4fe7c8a6-764f-44e3-a277-57dfc9cb76e0"
      },
      "outputs": [
        {
          "output_type": "execute_result",
          "data": {
            "text/plain": [
              "44.644791425229236"
            ]
          },
          "metadata": {},
          "execution_count": 153
        }
      ],
      "source": [
        "RMSE = np.sqrt(MSE)\n",
        "RMSE"
      ]
    },
    {
      "cell_type": "code",
      "execution_count": 154,
      "id": "3686e84a",
      "metadata": {
        "colab": {
          "base_uri": "https://localhost:8080/"
        },
        "id": "3686e84a",
        "outputId": "b9a20b8b-2aed-45a1-cc81-c866f1d865a9"
      },
      "outputs": [
        {
          "output_type": "execute_result",
          "data": {
            "text/plain": [
              "array([ 0,  0,  0, ..., 12,  0,  0])"
            ]
          },
          "metadata": {},
          "execution_count": 154
        }
      ],
      "source": [
        "dtc = DecisionTreeClassifier()\n",
        "dtc_clf = dtc.fit(X_train, DHI_train)\n",
        "DHI_pred1 = dtc_clf.predict(X_test)\n",
        "DHI_pred1"
      ]
    },
    {
      "cell_type": "code",
      "execution_count": 155,
      "id": "0dc90bed",
      "metadata": {
        "colab": {
          "base_uri": "https://localhost:8080/"
        },
        "id": "0dc90bed",
        "outputId": "cd099529-5c34-4a31-f546-f19c16550fe9"
      },
      "outputs": [
        {
          "output_type": "stream",
          "name": "stdout",
          "text": [
            "268.8841324200913\n"
          ]
        }
      ],
      "source": [
        "print(mean_squared_error(DHI_test, DHI_pred1))"
      ]
    },
    {
      "cell_type": "code",
      "execution_count": 156,
      "id": "991f9366",
      "metadata": {
        "colab": {
          "base_uri": "https://localhost:8080/"
        },
        "id": "991f9366",
        "outputId": "45087fa1-a1a1-40d3-bacb-88766adce323"
      },
      "outputs": [
        {
          "output_type": "stream",
          "name": "stdout",
          "text": [
            "16.39768680089028\n"
          ]
        }
      ],
      "source": [
        "print(np.sqrt(mean_squared_error(DHI_test, DHI_pred1)))"
      ]
    },
    {
      "cell_type": "code",
      "execution_count": 157,
      "id": "229a301f",
      "metadata": {
        "colab": {
          "base_uri": "https://localhost:8080/"
        },
        "id": "229a301f",
        "outputId": "79feddc9-3816-4616-c042-fe5b43de78d8"
      },
      "outputs": [
        {
          "output_type": "execute_result",
          "data": {
            "text/plain": [
              "array([ 0.0135269 ,  0.01753754,  2.6207738 , ..., 12.059044  ,\n",
              "        2.700777  ,  3.4080846 ], dtype=float32)"
            ]
          },
          "metadata": {},
          "execution_count": 157
        }
      ],
      "source": [
        "xgbr = XGBRegressor()\n",
        "xgbr_clf = xgbr.fit(X_train, DHI_train)\n",
        "DHI_pred2 = xgbr_clf.predict(X_test)\n",
        "DHI_pred2"
      ]
    },
    {
      "cell_type": "code",
      "execution_count": 158,
      "id": "b2b39eec",
      "metadata": {
        "colab": {
          "base_uri": "https://localhost:8080/"
        },
        "id": "b2b39eec",
        "outputId": "276c644d-2c5c-48c4-9724-41a406f784c6"
      },
      "outputs": [
        {
          "output_type": "stream",
          "name": "stdout",
          "text": [
            "263.6924300587255\n"
          ]
        }
      ],
      "source": [
        "print(mean_squared_error(DHI_test, DHI_pred2))"
      ]
    },
    {
      "cell_type": "code",
      "execution_count": 159,
      "id": "7c1c0949",
      "metadata": {
        "colab": {
          "base_uri": "https://localhost:8080/"
        },
        "id": "7c1c0949",
        "outputId": "37bd2887-2eea-47dd-c9b9-077af0b1b4e9"
      },
      "outputs": [
        {
          "output_type": "stream",
          "name": "stdout",
          "text": [
            "16.238609240286728\n"
          ]
        }
      ],
      "source": [
        "print(np.sqrt(mean_squared_error(DHI_test, DHI_pred2)))"
      ]
    },
    {
      "cell_type": "markdown",
      "id": "66fcd427",
      "metadata": {
        "id": "66fcd427"
      },
      "source": [
        "# GHI"
      ]
    },
    {
      "cell_type": "code",
      "execution_count": 160,
      "id": "f5acd4d2",
      "metadata": {
        "id": "f5acd4d2"
      },
      "outputs": [],
      "source": [
        "X_train = df_train.drop(columns=['Year','Clearsky GHI'])\n",
        "GHI_train = df_train['Clearsky GHI'].values\n",
        "X_test = df_test.drop(columns=['Year','Clearsky DHI','Clearsky DNI','Clearsky GHI'])\n",
        "X_test.insert(4, \"Clearsky DHI\", DHI_pred2)\n",
        "X_test.insert(5,'Clearsky DNI',DNI_pred2)\n",
        "GHI_test = df_test['Clearsky GHI'].values"
      ]
    },
    {
      "cell_type": "code",
      "execution_count": 161,
      "id": "b99abf8b",
      "metadata": {
        "colab": {
          "base_uri": "https://localhost:8080/"
        },
        "id": "b99abf8b",
        "outputId": "e8b3a2ed-53a1-4775-cfb6-d6ae378a2f65"
      },
      "outputs": [
        {
          "output_type": "execute_result",
          "data": {
            "text/plain": [
              "array([  39.52275701,   32.17736539,   24.69366303, ..., -996.72058867,\n",
              "        -98.48304064, -102.34745008])"
            ]
          },
          "metadata": {},
          "execution_count": 161
        }
      ],
      "source": [
        "linr = LinearRegression()\n",
        "clf = linr.fit(X_train, GHI_train)\n",
        "GHI_pred = clf.predict(X_test)\n",
        "GHI_pred"
      ]
    },
    {
      "cell_type": "code",
      "execution_count": 162,
      "id": "54d2d96a",
      "metadata": {
        "colab": {
          "base_uri": "https://localhost:8080/"
        },
        "id": "54d2d96a",
        "outputId": "775a5693-1285-474f-8e79-8ad2ab59aec5"
      },
      "outputs": [
        {
          "output_type": "execute_result",
          "data": {
            "text/plain": [
              "117366.69180650455"
            ]
          },
          "metadata": {},
          "execution_count": 162
        }
      ],
      "source": [
        "MSE=mean_squared_error(GHI_test, GHI_pred)\n",
        "MSE"
      ]
    },
    {
      "cell_type": "code",
      "execution_count": 163,
      "id": "1970f564",
      "metadata": {
        "colab": {
          "base_uri": "https://localhost:8080/"
        },
        "id": "1970f564",
        "outputId": "07bfbaa2-a606-4c54-b895-5cd69e695809"
      },
      "outputs": [
        {
          "output_type": "execute_result",
          "data": {
            "text/plain": [
              "342.58822485092"
            ]
          },
          "metadata": {},
          "execution_count": 163
        }
      ],
      "source": [
        "RMSE = np.sqrt(MSE)\n",
        "RMSE"
      ]
    },
    {
      "cell_type": "code",
      "execution_count": 164,
      "id": "3959d393",
      "metadata": {
        "colab": {
          "base_uri": "https://localhost:8080/"
        },
        "id": "3959d393",
        "outputId": "10e18319-ad5c-4267-faa5-82f37bad2f6b"
      },
      "outputs": [
        {
          "output_type": "execute_result",
          "data": {
            "text/plain": [
              "array([ 0,  0,  3, ..., 14,  3,  3])"
            ]
          },
          "metadata": {},
          "execution_count": 164
        }
      ],
      "source": [
        "dtc = DecisionTreeClassifier()\n",
        "dtc_clf = dtc.fit(X_train, GHI_train)\n",
        "GHI_pred1 = dtc_clf.predict(X_test)\n",
        "GHI_pred1"
      ]
    },
    {
      "cell_type": "code",
      "execution_count": 165,
      "id": "fe3ab778",
      "metadata": {
        "colab": {
          "base_uri": "https://localhost:8080/"
        },
        "id": "fe3ab778",
        "outputId": "aa990353-1e91-465d-9309-d4e0a740bb32"
      },
      "outputs": [
        {
          "output_type": "stream",
          "name": "stdout",
          "text": [
            "78.92465753424658\n"
          ]
        }
      ],
      "source": [
        "print(mean_squared_error(GHI_test, GHI_pred1))"
      ]
    },
    {
      "cell_type": "code",
      "execution_count": 166,
      "id": "c0f4711a",
      "metadata": {
        "colab": {
          "base_uri": "https://localhost:8080/"
        },
        "id": "c0f4711a",
        "outputId": "b6bd9396-beac-4d13-8893-aed0a24fc913"
      },
      "outputs": [
        {
          "output_type": "stream",
          "name": "stdout",
          "text": [
            "8.883955061471584\n"
          ]
        }
      ],
      "source": [
        "print(np.sqrt(mean_squared_error(GHI_test, GHI_pred1)))"
      ]
    },
    {
      "cell_type": "markdown",
      "source": [],
      "metadata": {
        "id": "-_dnfOrOh2Rk"
      },
      "id": "-_dnfOrOh2Rk"
    },
    {
      "cell_type": "code",
      "execution_count": 167,
      "id": "be1ee51d",
      "metadata": {
        "colab": {
          "base_uri": "https://localhost:8080/"
        },
        "id": "be1ee51d",
        "outputId": "586634b1-9892-412e-cf75-10ea0d2f30a4"
      },
      "outputs": [
        {
          "output_type": "execute_result",
          "data": {
            "text/plain": [
              "array([ 0.02685566,  0.04695784,  2.6834698 , ..., 14.304886  ,\n",
              "        2.7653058 ,  3.0199983 ], dtype=float32)"
            ]
          },
          "metadata": {},
          "execution_count": 167
        }
      ],
      "source": [
        "xgbr = XGBRegressor()\n",
        "xgbr_clf = xgbr.fit(X_train, GHI_train)\n",
        "GHI_pred2 = xgbr_clf.predict(X_test)\n",
        "GHI_pred2"
      ]
    },
    {
      "cell_type": "code",
      "execution_count": 168,
      "id": "3e2d8688",
      "metadata": {
        "colab": {
          "base_uri": "https://localhost:8080/"
        },
        "id": "3e2d8688",
        "outputId": "77cd6604-0da5-4171-a5e8-6ed1307be902"
      },
      "outputs": [
        {
          "output_type": "stream",
          "name": "stdout",
          "text": [
            "52.79887667061211\n"
          ]
        }
      ],
      "source": [
        "print(mean_squared_error(GHI_test, GHI_pred2))"
      ]
    },
    {
      "cell_type": "code",
      "execution_count": 169,
      "id": "613d21fa",
      "metadata": {
        "colab": {
          "base_uri": "https://localhost:8080/"
        },
        "id": "613d21fa",
        "outputId": "59d04872-74e3-4bc8-f738-daf3deefe945"
      },
      "outputs": [
        {
          "output_type": "stream",
          "name": "stdout",
          "text": [
            "7.266283552863328\n"
          ]
        }
      ],
      "source": [
        "print(np.sqrt(mean_squared_error(GHI_test, GHI_pred2)))"
      ]
    },
    {
      "cell_type": "markdown",
      "id": "efe14058",
      "metadata": {
        "id": "efe14058"
      },
      "source": []
    },
    {
      "cell_type": "code",
      "execution_count": 197,
      "id": "fb6a68b8",
      "metadata": {
        "colab": {
          "base_uri": "https://localhost:8080/",
          "height": 305
        },
        "id": "fb6a68b8",
        "outputId": "6c1c9876-642f-4825-91ca-e657db245f14"
      },
      "outputs": [
        {
          "output_type": "execute_result",
          "data": {
            "text/plain": [
              "   Year  Month  Day  Hour  Minute  Cloud Type  Dew Point  Temperature  \\\n",
              "0  2011      1   28    12       0           3       13.5          3.2   \n",
              "1  2011      2   28    12       0           3       13.5          1.2   \n",
              "2  2011      3   28    12       0           3       13.5          1.3   \n",
              "3  2011      4   28    12       0           3       13.5          8.3   \n",
              "4  2011      5   28    12       0           3       13.5          5.3   \n",
              "\n",
              "   Pressure  Relative Humidity  Solar Zenith Angle  Precipitable Water  \\\n",
              "0       -23               79.3              -94.45                0.51   \n",
              "1       -21               79.3              -94.45                1.59   \n",
              "2       -21               79.3              -94.45                0.71   \n",
              "3       -18               79.3              -94.45                0.06   \n",
              "4        -5               79.3              -94.45                0.26   \n",
              "\n",
              "   Wind Direction  Wind Speed  Fill Flag  Clearsky DHI  Clearsky DNI  \\\n",
              "0             189         2.3          0             0             0   \n",
              "1             189         2.3          0             0             0   \n",
              "2             189         2.3          0             0             0   \n",
              "3             189         2.3          0             0             0   \n",
              "4             189         2.3          0             0             0   \n",
              "\n",
              "   Clearsky GHI  Latitude  Longitude  \n",
              "0             0        71     -156.0  \n",
              "1             0        71     -156.0  \n",
              "2             0        71     -156.0  \n",
              "3             0        71     -156.0  \n",
              "4             0        71     -156.0  "
            ],
            "text/html": [
              "\n",
              "  <div id=\"df-38648998-e614-4aea-83df-9f7ec7c4ea75\">\n",
              "    <div class=\"colab-df-container\">\n",
              "      <div>\n",
              "<style scoped>\n",
              "    .dataframe tbody tr th:only-of-type {\n",
              "        vertical-align: middle;\n",
              "    }\n",
              "\n",
              "    .dataframe tbody tr th {\n",
              "        vertical-align: top;\n",
              "    }\n",
              "\n",
              "    .dataframe thead th {\n",
              "        text-align: right;\n",
              "    }\n",
              "</style>\n",
              "<table border=\"1\" class=\"dataframe\">\n",
              "  <thead>\n",
              "    <tr style=\"text-align: right;\">\n",
              "      <th></th>\n",
              "      <th>Year</th>\n",
              "      <th>Month</th>\n",
              "      <th>Day</th>\n",
              "      <th>Hour</th>\n",
              "      <th>Minute</th>\n",
              "      <th>Cloud Type</th>\n",
              "      <th>Dew Point</th>\n",
              "      <th>Temperature</th>\n",
              "      <th>Pressure</th>\n",
              "      <th>Relative Humidity</th>\n",
              "      <th>Solar Zenith Angle</th>\n",
              "      <th>Precipitable Water</th>\n",
              "      <th>Wind Direction</th>\n",
              "      <th>Wind Speed</th>\n",
              "      <th>Fill Flag</th>\n",
              "      <th>Clearsky DHI</th>\n",
              "      <th>Clearsky DNI</th>\n",
              "      <th>Clearsky GHI</th>\n",
              "      <th>Latitude</th>\n",
              "      <th>Longitude</th>\n",
              "    </tr>\n",
              "  </thead>\n",
              "  <tbody>\n",
              "    <tr>\n",
              "      <th>0</th>\n",
              "      <td>2011</td>\n",
              "      <td>1</td>\n",
              "      <td>28</td>\n",
              "      <td>12</td>\n",
              "      <td>0</td>\n",
              "      <td>3</td>\n",
              "      <td>13.5</td>\n",
              "      <td>3.2</td>\n",
              "      <td>-23</td>\n",
              "      <td>79.3</td>\n",
              "      <td>-94.45</td>\n",
              "      <td>0.51</td>\n",
              "      <td>189</td>\n",
              "      <td>2.3</td>\n",
              "      <td>0</td>\n",
              "      <td>0</td>\n",
              "      <td>0</td>\n",
              "      <td>0</td>\n",
              "      <td>71</td>\n",
              "      <td>-156.0</td>\n",
              "    </tr>\n",
              "    <tr>\n",
              "      <th>1</th>\n",
              "      <td>2011</td>\n",
              "      <td>2</td>\n",
              "      <td>28</td>\n",
              "      <td>12</td>\n",
              "      <td>0</td>\n",
              "      <td>3</td>\n",
              "      <td>13.5</td>\n",
              "      <td>1.2</td>\n",
              "      <td>-21</td>\n",
              "      <td>79.3</td>\n",
              "      <td>-94.45</td>\n",
              "      <td>1.59</td>\n",
              "      <td>189</td>\n",
              "      <td>2.3</td>\n",
              "      <td>0</td>\n",
              "      <td>0</td>\n",
              "      <td>0</td>\n",
              "      <td>0</td>\n",
              "      <td>71</td>\n",
              "      <td>-156.0</td>\n",
              "    </tr>\n",
              "    <tr>\n",
              "      <th>2</th>\n",
              "      <td>2011</td>\n",
              "      <td>3</td>\n",
              "      <td>28</td>\n",
              "      <td>12</td>\n",
              "      <td>0</td>\n",
              "      <td>3</td>\n",
              "      <td>13.5</td>\n",
              "      <td>1.3</td>\n",
              "      <td>-21</td>\n",
              "      <td>79.3</td>\n",
              "      <td>-94.45</td>\n",
              "      <td>0.71</td>\n",
              "      <td>189</td>\n",
              "      <td>2.3</td>\n",
              "      <td>0</td>\n",
              "      <td>0</td>\n",
              "      <td>0</td>\n",
              "      <td>0</td>\n",
              "      <td>71</td>\n",
              "      <td>-156.0</td>\n",
              "    </tr>\n",
              "    <tr>\n",
              "      <th>3</th>\n",
              "      <td>2011</td>\n",
              "      <td>4</td>\n",
              "      <td>28</td>\n",
              "      <td>12</td>\n",
              "      <td>0</td>\n",
              "      <td>3</td>\n",
              "      <td>13.5</td>\n",
              "      <td>8.3</td>\n",
              "      <td>-18</td>\n",
              "      <td>79.3</td>\n",
              "      <td>-94.45</td>\n",
              "      <td>0.06</td>\n",
              "      <td>189</td>\n",
              "      <td>2.3</td>\n",
              "      <td>0</td>\n",
              "      <td>0</td>\n",
              "      <td>0</td>\n",
              "      <td>0</td>\n",
              "      <td>71</td>\n",
              "      <td>-156.0</td>\n",
              "    </tr>\n",
              "    <tr>\n",
              "      <th>4</th>\n",
              "      <td>2011</td>\n",
              "      <td>5</td>\n",
              "      <td>28</td>\n",
              "      <td>12</td>\n",
              "      <td>0</td>\n",
              "      <td>3</td>\n",
              "      <td>13.5</td>\n",
              "      <td>5.3</td>\n",
              "      <td>-5</td>\n",
              "      <td>79.3</td>\n",
              "      <td>-94.45</td>\n",
              "      <td>0.26</td>\n",
              "      <td>189</td>\n",
              "      <td>2.3</td>\n",
              "      <td>0</td>\n",
              "      <td>0</td>\n",
              "      <td>0</td>\n",
              "      <td>0</td>\n",
              "      <td>71</td>\n",
              "      <td>-156.0</td>\n",
              "    </tr>\n",
              "  </tbody>\n",
              "</table>\n",
              "</div>\n",
              "      <button class=\"colab-df-convert\" onclick=\"convertToInteractive('df-38648998-e614-4aea-83df-9f7ec7c4ea75')\"\n",
              "              title=\"Convert this dataframe to an interactive table.\"\n",
              "              style=\"display:none;\">\n",
              "        \n",
              "  <svg xmlns=\"http://www.w3.org/2000/svg\" height=\"24px\"viewBox=\"0 0 24 24\"\n",
              "       width=\"24px\">\n",
              "    <path d=\"M0 0h24v24H0V0z\" fill=\"none\"/>\n",
              "    <path d=\"M18.56 5.44l.94 2.06.94-2.06 2.06-.94-2.06-.94-.94-2.06-.94 2.06-2.06.94zm-11 1L8.5 8.5l.94-2.06 2.06-.94-2.06-.94L8.5 2.5l-.94 2.06-2.06.94zm10 10l.94 2.06.94-2.06 2.06-.94-2.06-.94-.94-2.06-.94 2.06-2.06.94z\"/><path d=\"M17.41 7.96l-1.37-1.37c-.4-.4-.92-.59-1.43-.59-.52 0-1.04.2-1.43.59L10.3 9.45l-7.72 7.72c-.78.78-.78 2.05 0 2.83L4 21.41c.39.39.9.59 1.41.59.51 0 1.02-.2 1.41-.59l7.78-7.78 2.81-2.81c.8-.78.8-2.07 0-2.86zM5.41 20L4 18.59l7.72-7.72 1.47 1.35L5.41 20z\"/>\n",
              "  </svg>\n",
              "      </button>\n",
              "      \n",
              "  <style>\n",
              "    .colab-df-container {\n",
              "      display:flex;\n",
              "      flex-wrap:wrap;\n",
              "      gap: 12px;\n",
              "    }\n",
              "\n",
              "    .colab-df-convert {\n",
              "      background-color: #E8F0FE;\n",
              "      border: none;\n",
              "      border-radius: 50%;\n",
              "      cursor: pointer;\n",
              "      display: none;\n",
              "      fill: #1967D2;\n",
              "      height: 32px;\n",
              "      padding: 0 0 0 0;\n",
              "      width: 32px;\n",
              "    }\n",
              "\n",
              "    .colab-df-convert:hover {\n",
              "      background-color: #E2EBFA;\n",
              "      box-shadow: 0px 1px 2px rgba(60, 64, 67, 0.3), 0px 1px 3px 1px rgba(60, 64, 67, 0.15);\n",
              "      fill: #174EA6;\n",
              "    }\n",
              "\n",
              "    [theme=dark] .colab-df-convert {\n",
              "      background-color: #3B4455;\n",
              "      fill: #D2E3FC;\n",
              "    }\n",
              "\n",
              "    [theme=dark] .colab-df-convert:hover {\n",
              "      background-color: #434B5C;\n",
              "      box-shadow: 0px 1px 3px 1px rgba(0, 0, 0, 0.15);\n",
              "      filter: drop-shadow(0px 1px 2px rgba(0, 0, 0, 0.3));\n",
              "      fill: #FFFFFF;\n",
              "    }\n",
              "  </style>\n",
              "\n",
              "      <script>\n",
              "        const buttonEl =\n",
              "          document.querySelector('#df-38648998-e614-4aea-83df-9f7ec7c4ea75 button.colab-df-convert');\n",
              "        buttonEl.style.display =\n",
              "          google.colab.kernel.accessAllowed ? 'block' : 'none';\n",
              "\n",
              "        async function convertToInteractive(key) {\n",
              "          const element = document.querySelector('#df-38648998-e614-4aea-83df-9f7ec7c4ea75');\n",
              "          const dataTable =\n",
              "            await google.colab.kernel.invokeFunction('convertToInteractive',\n",
              "                                                     [key], {});\n",
              "          if (!dataTable) return;\n",
              "\n",
              "          const docLinkHtml = 'Like what you see? Visit the ' +\n",
              "            '<a target=\"_blank\" href=https://colab.research.google.com/notebooks/data_table.ipynb>data table notebook</a>'\n",
              "            + ' to learn more about interactive tables.';\n",
              "          element.innerHTML = '';\n",
              "          dataTable['output_type'] = 'display_data';\n",
              "          await google.colab.output.renderOutput(dataTable, element);\n",
              "          const docLink = document.createElement('div');\n",
              "          docLink.innerHTML = docLinkHtml;\n",
              "          element.appendChild(docLink);\n",
              "        }\n",
              "      </script>\n",
              "    </div>\n",
              "  </div>\n",
              "  "
            ]
          },
          "metadata": {},
          "execution_count": 197
        }
      ],
      "source": [
        "df_sub = pd.read_csv(\"Reformated 9 - Reformated 9.csv\")\n",
        "df_sub.head()"
      ]
    },
    {
      "cell_type": "code",
      "execution_count": 198,
      "id": "6103825b",
      "metadata": {
        "colab": {
          "base_uri": "https://localhost:8080/"
        },
        "id": "6103825b",
        "outputId": "795363da-d87d-4417-9441-4d87da82afc9"
      },
      "outputs": [
        {
          "output_type": "stream",
          "name": "stdout",
          "text": [
            "<class 'pandas.core.frame.DataFrame'>\n",
            "RangeIndex: 23812 entries, 0 to 23811\n",
            "Data columns (total 20 columns):\n",
            " #   Column              Non-Null Count  Dtype  \n",
            "---  ------              --------------  -----  \n",
            " 0   Year                23812 non-null  int64  \n",
            " 1   Month               23812 non-null  int64  \n",
            " 2   Day                 23812 non-null  int64  \n",
            " 3   Hour                23812 non-null  int64  \n",
            " 4   Minute              23812 non-null  int64  \n",
            " 5   Cloud Type          23812 non-null  int64  \n",
            " 6   Dew Point           23812 non-null  float64\n",
            " 7   Temperature         23812 non-null  float64\n",
            " 8   Pressure            23812 non-null  int64  \n",
            " 9   Relative Humidity   23812 non-null  float64\n",
            " 10  Solar Zenith Angle  23812 non-null  float64\n",
            " 11  Precipitable Water  23812 non-null  float64\n",
            " 12  Wind Direction      23812 non-null  int64  \n",
            " 13  Wind Speed          23812 non-null  float64\n",
            " 14  Fill Flag           23812 non-null  int64  \n",
            " 15  Clearsky DHI        23812 non-null  int64  \n",
            " 16  Clearsky DNI        23812 non-null  int64  \n",
            " 17  Clearsky GHI        23812 non-null  int64  \n",
            " 18  Latitude            23812 non-null  int64  \n",
            " 19  Longitude           23811 non-null  float64\n",
            "dtypes: float64(7), int64(13)\n",
            "memory usage: 3.6 MB\n"
          ]
        }
      ],
      "source": [
        "df_sub.info()"
      ]
    },
    {
      "cell_type": "code",
      "execution_count": 199,
      "id": "26c86787",
      "metadata": {
        "colab": {
          "base_uri": "https://localhost:8080/"
        },
        "id": "26c86787",
        "outputId": "8e5aad22-a413-4882-da3d-89d96faf3e93"
      },
      "outputs": [
        {
          "output_type": "execute_result",
          "data": {
            "text/plain": [
              "Year                  0\n",
              "Month                 0\n",
              "Day                   0\n",
              "Hour                  0\n",
              "Minute                0\n",
              "Cloud Type            0\n",
              "Dew Point             0\n",
              "Temperature           0\n",
              "Pressure              0\n",
              "Relative Humidity     0\n",
              "Solar Zenith Angle    0\n",
              "Precipitable Water    0\n",
              "Wind Direction        0\n",
              "Wind Speed            0\n",
              "Fill Flag             0\n",
              "Clearsky DHI          0\n",
              "Clearsky DNI          0\n",
              "Clearsky GHI          0\n",
              "Latitude              0\n",
              "Longitude             1\n",
              "dtype: int64"
            ]
          },
          "metadata": {},
          "execution_count": 199
        }
      ],
      "source": [
        "df_sub.isna().sum()"
      ]
    },
    {
      "cell_type": "code",
      "execution_count": 200,
      "id": "48b1763f",
      "metadata": {
        "colab": {
          "base_uri": "https://localhost:8080/"
        },
        "id": "48b1763f",
        "outputId": "8d4305e1-2248-4ebe-e74a-4b094b9579dd"
      },
      "outputs": [
        {
          "output_type": "execute_result",
          "data": {
            "text/plain": [
              "0"
            ]
          },
          "metadata": {},
          "execution_count": 200
        }
      ],
      "source": [
        "df.duplicated().sum()"
      ]
    },
    {
      "cell_type": "code",
      "execution_count": 201,
      "id": "63de9ee1",
      "metadata": {
        "id": "63de9ee1"
      },
      "outputs": [],
      "source": [
        "df_sub = df_sub.drop(columns=['Clearsky DHI','Clearsky DNI','Clearsky GHI', 'Latitude', 'Longitude'])"
      ]
    },
    {
      "cell_type": "code",
      "source": [
        "df_sub['Pressure'].dtype"
      ],
      "metadata": {
        "id": "bRmPLGMPhCkj",
        "outputId": "e9801a7a-90a0-4c8e-9d72-1d551888a1ba",
        "colab": {
          "base_uri": "https://localhost:8080/"
        }
      },
      "id": "bRmPLGMPhCkj",
      "execution_count": 202,
      "outputs": [
        {
          "output_type": "execute_result",
          "data": {
            "text/plain": [
              "dtype('int64')"
            ]
          },
          "metadata": {},
          "execution_count": 202
        }
      ]
    },
    {
      "cell_type": "markdown",
      "id": "1c75c815",
      "metadata": {
        "id": "1c75c815"
      },
      "source": [
        "# Train DNI"
      ]
    },
    {
      "cell_type": "code",
      "execution_count": 203,
      "id": "c4de3d4a",
      "metadata": {
        "id": "c4de3d4a"
      },
      "outputs": [],
      "source": [
        "X_train = df.drop(columns=['Year','Clearsky DHI','Clearsky DNI','Clearsky GHI'])\n",
        "DNI_train = df['Clearsky DNI'].values\n",
        "X_test = df_sub.drop(columns=['Year'])\n",
        "xgbr = XGBRegressor()\n",
        "xgbr_clf = xgbr.fit(X_train, DNI_train)\n",
        "\n",
        "DNI_pred = xgbr_clf.predict(X_test)\n",
        "DNI_pred = np.where(DNI_pred<0,0,DNI_pred)"
      ]
    },
    {
      "cell_type": "markdown",
      "id": "16c22ce4",
      "metadata": {
        "id": "16c22ce4"
      },
      "source": [
        "# Train DHI"
      ]
    },
    {
      "cell_type": "code",
      "execution_count": 204,
      "id": "fcbbcf22",
      "metadata": {
        "id": "fcbbcf22"
      },
      "outputs": [],
      "source": [
        "X_train = df.drop(columns=['Year','Clearsky DHI','Clearsky GHI'])\n",
        "DHI_train = df['Clearsky DHI'].values\n",
        "X_test = df_sub.drop(columns=['Year'])\n",
        "X_test.insert(4, \"Clearsky DNI\", DNI_pred)\n",
        "xgbr = XGBRegressor()\n",
        "xgbr_clf = xgbr.fit(X_train,DHI_train)\n",
        "\n",
        "DHI_pred = xgbr_clf.predict(X_test)\n",
        "DHI_pred = np.where(DHI_pred<0,0,DHI_pred)"
      ]
    },
    {
      "cell_type": "markdown",
      "id": "22447c08",
      "metadata": {
        "id": "22447c08"
      },
      "source": [
        "# Train GHI"
      ]
    },
    {
      "cell_type": "code",
      "execution_count": 205,
      "id": "c9d9a726",
      "metadata": {
        "id": "c9d9a726"
      },
      "outputs": [],
      "source": [
        "X_train = df.drop(columns=['Year','Clearsky GHI'])\n",
        "GHI_train = df['Clearsky GHI'].values\n",
        "X_test = df_sub.drop(columns=['Year'])\n",
        "X_test.insert(4, \"Clearsky DHI\", DHI_pred)\n",
        "X_test.insert(5,'Clearsky DNI',DNI_pred)\n",
        "xgbr = XGBRegressor()\n",
        "xgbr_clf = xgbr.fit(X_train,GHI_train)\n",
        "\n",
        "GHI_pred = xgbr_clf.predict(X_test)\n",
        "GHI_pred = np.where(GHI_pred<0,0,GHI_pred)"
      ]
    },
    {
      "cell_type": "markdown",
      "id": "b93dc7f8",
      "metadata": {
        "id": "b93dc7f8"
      },
      "source": [
        "Submit"
      ]
    },
    {
      "cell_type": "code",
      "execution_count": 206,
      "id": "7838d7fb",
      "metadata": {
        "id": "7838d7fb"
      },
      "outputs": [],
      "source": [
        "df_pred = pd.DataFrame([DHI_pred,DNI_pred,GHI_pred]).T\n",
        "df_pred.columns = ['Clearsky DHI', 'Clearsky DNI', 'Clearsky GHI']\n",
        "df_pred.to_csv('submission.csv', index=False)"
      ]
    },
    {
      "cell_type": "code",
      "source": [
        "df_sub2 = pd.read_csv(\"Reformated 9 - Reformated 9.csv\")\n",
        "df_sub2.head()"
      ],
      "metadata": {
        "id": "tFzaK4NTUnfm",
        "outputId": "32210642-bc34-401e-d030-8c754193219d",
        "colab": {
          "base_uri": "https://localhost:8080/",
          "height": 305
        }
      },
      "id": "tFzaK4NTUnfm",
      "execution_count": 208,
      "outputs": [
        {
          "output_type": "execute_result",
          "data": {
            "text/plain": [
              "   Year  Month  Day  Hour  Minute  Cloud Type  Dew Point  Temperature  \\\n",
              "0  2011      1   28    12       0           3       13.5          3.2   \n",
              "1  2011      2   28    12       0           3       13.5          1.2   \n",
              "2  2011      3   28    12       0           3       13.5          1.3   \n",
              "3  2011      4   28    12       0           3       13.5          8.3   \n",
              "4  2011      5   28    12       0           3       13.5          5.3   \n",
              "\n",
              "   Pressure  Relative Humidity  Solar Zenith Angle  Precipitable Water  \\\n",
              "0       -23               79.3              -94.45                0.51   \n",
              "1       -21               79.3              -94.45                1.59   \n",
              "2       -21               79.3              -94.45                0.71   \n",
              "3       -18               79.3              -94.45                0.06   \n",
              "4        -5               79.3              -94.45                0.26   \n",
              "\n",
              "   Wind Direction  Wind Speed  Fill Flag  Clearsky DHI  Clearsky DNI  \\\n",
              "0             189         2.3          0             0             0   \n",
              "1             189         2.3          0             0             0   \n",
              "2             189         2.3          0             0             0   \n",
              "3             189         2.3          0             0             0   \n",
              "4             189         2.3          0             0             0   \n",
              "\n",
              "   Clearsky GHI  Latitude  Longitude  \n",
              "0             0        71     -156.0  \n",
              "1             0        71     -156.0  \n",
              "2             0        71     -156.0  \n",
              "3             0        71     -156.0  \n",
              "4             0        71     -156.0  "
            ],
            "text/html": [
              "\n",
              "  <div id=\"df-c975e14b-ace3-440a-aba2-4b94829ac448\">\n",
              "    <div class=\"colab-df-container\">\n",
              "      <div>\n",
              "<style scoped>\n",
              "    .dataframe tbody tr th:only-of-type {\n",
              "        vertical-align: middle;\n",
              "    }\n",
              "\n",
              "    .dataframe tbody tr th {\n",
              "        vertical-align: top;\n",
              "    }\n",
              "\n",
              "    .dataframe thead th {\n",
              "        text-align: right;\n",
              "    }\n",
              "</style>\n",
              "<table border=\"1\" class=\"dataframe\">\n",
              "  <thead>\n",
              "    <tr style=\"text-align: right;\">\n",
              "      <th></th>\n",
              "      <th>Year</th>\n",
              "      <th>Month</th>\n",
              "      <th>Day</th>\n",
              "      <th>Hour</th>\n",
              "      <th>Minute</th>\n",
              "      <th>Cloud Type</th>\n",
              "      <th>Dew Point</th>\n",
              "      <th>Temperature</th>\n",
              "      <th>Pressure</th>\n",
              "      <th>Relative Humidity</th>\n",
              "      <th>Solar Zenith Angle</th>\n",
              "      <th>Precipitable Water</th>\n",
              "      <th>Wind Direction</th>\n",
              "      <th>Wind Speed</th>\n",
              "      <th>Fill Flag</th>\n",
              "      <th>Clearsky DHI</th>\n",
              "      <th>Clearsky DNI</th>\n",
              "      <th>Clearsky GHI</th>\n",
              "      <th>Latitude</th>\n",
              "      <th>Longitude</th>\n",
              "    </tr>\n",
              "  </thead>\n",
              "  <tbody>\n",
              "    <tr>\n",
              "      <th>0</th>\n",
              "      <td>2011</td>\n",
              "      <td>1</td>\n",
              "      <td>28</td>\n",
              "      <td>12</td>\n",
              "      <td>0</td>\n",
              "      <td>3</td>\n",
              "      <td>13.5</td>\n",
              "      <td>3.2</td>\n",
              "      <td>-23</td>\n",
              "      <td>79.3</td>\n",
              "      <td>-94.45</td>\n",
              "      <td>0.51</td>\n",
              "      <td>189</td>\n",
              "      <td>2.3</td>\n",
              "      <td>0</td>\n",
              "      <td>0</td>\n",
              "      <td>0</td>\n",
              "      <td>0</td>\n",
              "      <td>71</td>\n",
              "      <td>-156.0</td>\n",
              "    </tr>\n",
              "    <tr>\n",
              "      <th>1</th>\n",
              "      <td>2011</td>\n",
              "      <td>2</td>\n",
              "      <td>28</td>\n",
              "      <td>12</td>\n",
              "      <td>0</td>\n",
              "      <td>3</td>\n",
              "      <td>13.5</td>\n",
              "      <td>1.2</td>\n",
              "      <td>-21</td>\n",
              "      <td>79.3</td>\n",
              "      <td>-94.45</td>\n",
              "      <td>1.59</td>\n",
              "      <td>189</td>\n",
              "      <td>2.3</td>\n",
              "      <td>0</td>\n",
              "      <td>0</td>\n",
              "      <td>0</td>\n",
              "      <td>0</td>\n",
              "      <td>71</td>\n",
              "      <td>-156.0</td>\n",
              "    </tr>\n",
              "    <tr>\n",
              "      <th>2</th>\n",
              "      <td>2011</td>\n",
              "      <td>3</td>\n",
              "      <td>28</td>\n",
              "      <td>12</td>\n",
              "      <td>0</td>\n",
              "      <td>3</td>\n",
              "      <td>13.5</td>\n",
              "      <td>1.3</td>\n",
              "      <td>-21</td>\n",
              "      <td>79.3</td>\n",
              "      <td>-94.45</td>\n",
              "      <td>0.71</td>\n",
              "      <td>189</td>\n",
              "      <td>2.3</td>\n",
              "      <td>0</td>\n",
              "      <td>0</td>\n",
              "      <td>0</td>\n",
              "      <td>0</td>\n",
              "      <td>71</td>\n",
              "      <td>-156.0</td>\n",
              "    </tr>\n",
              "    <tr>\n",
              "      <th>3</th>\n",
              "      <td>2011</td>\n",
              "      <td>4</td>\n",
              "      <td>28</td>\n",
              "      <td>12</td>\n",
              "      <td>0</td>\n",
              "      <td>3</td>\n",
              "      <td>13.5</td>\n",
              "      <td>8.3</td>\n",
              "      <td>-18</td>\n",
              "      <td>79.3</td>\n",
              "      <td>-94.45</td>\n",
              "      <td>0.06</td>\n",
              "      <td>189</td>\n",
              "      <td>2.3</td>\n",
              "      <td>0</td>\n",
              "      <td>0</td>\n",
              "      <td>0</td>\n",
              "      <td>0</td>\n",
              "      <td>71</td>\n",
              "      <td>-156.0</td>\n",
              "    </tr>\n",
              "    <tr>\n",
              "      <th>4</th>\n",
              "      <td>2011</td>\n",
              "      <td>5</td>\n",
              "      <td>28</td>\n",
              "      <td>12</td>\n",
              "      <td>0</td>\n",
              "      <td>3</td>\n",
              "      <td>13.5</td>\n",
              "      <td>5.3</td>\n",
              "      <td>-5</td>\n",
              "      <td>79.3</td>\n",
              "      <td>-94.45</td>\n",
              "      <td>0.26</td>\n",
              "      <td>189</td>\n",
              "      <td>2.3</td>\n",
              "      <td>0</td>\n",
              "      <td>0</td>\n",
              "      <td>0</td>\n",
              "      <td>0</td>\n",
              "      <td>71</td>\n",
              "      <td>-156.0</td>\n",
              "    </tr>\n",
              "  </tbody>\n",
              "</table>\n",
              "</div>\n",
              "      <button class=\"colab-df-convert\" onclick=\"convertToInteractive('df-c975e14b-ace3-440a-aba2-4b94829ac448')\"\n",
              "              title=\"Convert this dataframe to an interactive table.\"\n",
              "              style=\"display:none;\">\n",
              "        \n",
              "  <svg xmlns=\"http://www.w3.org/2000/svg\" height=\"24px\"viewBox=\"0 0 24 24\"\n",
              "       width=\"24px\">\n",
              "    <path d=\"M0 0h24v24H0V0z\" fill=\"none\"/>\n",
              "    <path d=\"M18.56 5.44l.94 2.06.94-2.06 2.06-.94-2.06-.94-.94-2.06-.94 2.06-2.06.94zm-11 1L8.5 8.5l.94-2.06 2.06-.94-2.06-.94L8.5 2.5l-.94 2.06-2.06.94zm10 10l.94 2.06.94-2.06 2.06-.94-2.06-.94-.94-2.06-.94 2.06-2.06.94z\"/><path d=\"M17.41 7.96l-1.37-1.37c-.4-.4-.92-.59-1.43-.59-.52 0-1.04.2-1.43.59L10.3 9.45l-7.72 7.72c-.78.78-.78 2.05 0 2.83L4 21.41c.39.39.9.59 1.41.59.51 0 1.02-.2 1.41-.59l7.78-7.78 2.81-2.81c.8-.78.8-2.07 0-2.86zM5.41 20L4 18.59l7.72-7.72 1.47 1.35L5.41 20z\"/>\n",
              "  </svg>\n",
              "      </button>\n",
              "      \n",
              "  <style>\n",
              "    .colab-df-container {\n",
              "      display:flex;\n",
              "      flex-wrap:wrap;\n",
              "      gap: 12px;\n",
              "    }\n",
              "\n",
              "    .colab-df-convert {\n",
              "      background-color: #E8F0FE;\n",
              "      border: none;\n",
              "      border-radius: 50%;\n",
              "      cursor: pointer;\n",
              "      display: none;\n",
              "      fill: #1967D2;\n",
              "      height: 32px;\n",
              "      padding: 0 0 0 0;\n",
              "      width: 32px;\n",
              "    }\n",
              "\n",
              "    .colab-df-convert:hover {\n",
              "      background-color: #E2EBFA;\n",
              "      box-shadow: 0px 1px 2px rgba(60, 64, 67, 0.3), 0px 1px 3px 1px rgba(60, 64, 67, 0.15);\n",
              "      fill: #174EA6;\n",
              "    }\n",
              "\n",
              "    [theme=dark] .colab-df-convert {\n",
              "      background-color: #3B4455;\n",
              "      fill: #D2E3FC;\n",
              "    }\n",
              "\n",
              "    [theme=dark] .colab-df-convert:hover {\n",
              "      background-color: #434B5C;\n",
              "      box-shadow: 0px 1px 3px 1px rgba(0, 0, 0, 0.15);\n",
              "      filter: drop-shadow(0px 1px 2px rgba(0, 0, 0, 0.3));\n",
              "      fill: #FFFFFF;\n",
              "    }\n",
              "  </style>\n",
              "\n",
              "      <script>\n",
              "        const buttonEl =\n",
              "          document.querySelector('#df-c975e14b-ace3-440a-aba2-4b94829ac448 button.colab-df-convert');\n",
              "        buttonEl.style.display =\n",
              "          google.colab.kernel.accessAllowed ? 'block' : 'none';\n",
              "\n",
              "        async function convertToInteractive(key) {\n",
              "          const element = document.querySelector('#df-c975e14b-ace3-440a-aba2-4b94829ac448');\n",
              "          const dataTable =\n",
              "            await google.colab.kernel.invokeFunction('convertToInteractive',\n",
              "                                                     [key], {});\n",
              "          if (!dataTable) return;\n",
              "\n",
              "          const docLinkHtml = 'Like what you see? Visit the ' +\n",
              "            '<a target=\"_blank\" href=https://colab.research.google.com/notebooks/data_table.ipynb>data table notebook</a>'\n",
              "            + ' to learn more about interactive tables.';\n",
              "          element.innerHTML = '';\n",
              "          dataTable['output_type'] = 'display_data';\n",
              "          await google.colab.output.renderOutput(dataTable, element);\n",
              "          const docLink = document.createElement('div');\n",
              "          docLink.innerHTML = docLinkHtml;\n",
              "          element.appendChild(docLink);\n",
              "        }\n",
              "      </script>\n",
              "    </div>\n",
              "  </div>\n",
              "  "
            ]
          },
          "metadata": {},
          "execution_count": 208
        }
      ]
    },
    {
      "cell_type": "code",
      "source": [
        "df_submission = pd.read_csv(\"submission.csv\")\n",
        "df_submission[\"Latitude\"] = df_sub2[\"Latitude\"]\n",
        "df_submission[\"Longitude\"] = df_sub2[\"Longitude\"]"
      ],
      "metadata": {
        "id": "08QMQ107ZeHq"
      },
      "id": "08QMQ107ZeHq",
      "execution_count": 209,
      "outputs": []
    },
    {
      "cell_type": "code",
      "source": [
        "df_submission.head()"
      ],
      "metadata": {
        "id": "mqW3XjWnaZOv",
        "outputId": "da450952-fb71-416d-e7db-8b70fb6edca0",
        "colab": {
          "base_uri": "https://localhost:8080/",
          "height": 206
        }
      },
      "id": "mqW3XjWnaZOv",
      "execution_count": 210,
      "outputs": [
        {
          "output_type": "execute_result",
          "data": {
            "text/plain": [
              "   Clearsky DHI  Clearsky DNI  Clearsky GHI  Latitude  Longitude\n",
              "0     219.08719      806.3840    1013.93884        71     -156.0\n",
              "1     225.41620      755.7638     987.50336        71     -156.0\n",
              "2     271.39728      722.8686     992.27420        71     -156.0\n",
              "3     244.72041      771.1033    1007.34406        71     -156.0\n",
              "4     244.60611      770.5008    1003.50616        71     -156.0"
            ],
            "text/html": [
              "\n",
              "  <div id=\"df-4e738358-10e6-49da-88ec-2fd8fac4b802\">\n",
              "    <div class=\"colab-df-container\">\n",
              "      <div>\n",
              "<style scoped>\n",
              "    .dataframe tbody tr th:only-of-type {\n",
              "        vertical-align: middle;\n",
              "    }\n",
              "\n",
              "    .dataframe tbody tr th {\n",
              "        vertical-align: top;\n",
              "    }\n",
              "\n",
              "    .dataframe thead th {\n",
              "        text-align: right;\n",
              "    }\n",
              "</style>\n",
              "<table border=\"1\" class=\"dataframe\">\n",
              "  <thead>\n",
              "    <tr style=\"text-align: right;\">\n",
              "      <th></th>\n",
              "      <th>Clearsky DHI</th>\n",
              "      <th>Clearsky DNI</th>\n",
              "      <th>Clearsky GHI</th>\n",
              "      <th>Latitude</th>\n",
              "      <th>Longitude</th>\n",
              "    </tr>\n",
              "  </thead>\n",
              "  <tbody>\n",
              "    <tr>\n",
              "      <th>0</th>\n",
              "      <td>219.08719</td>\n",
              "      <td>806.3840</td>\n",
              "      <td>1013.93884</td>\n",
              "      <td>71</td>\n",
              "      <td>-156.0</td>\n",
              "    </tr>\n",
              "    <tr>\n",
              "      <th>1</th>\n",
              "      <td>225.41620</td>\n",
              "      <td>755.7638</td>\n",
              "      <td>987.50336</td>\n",
              "      <td>71</td>\n",
              "      <td>-156.0</td>\n",
              "    </tr>\n",
              "    <tr>\n",
              "      <th>2</th>\n",
              "      <td>271.39728</td>\n",
              "      <td>722.8686</td>\n",
              "      <td>992.27420</td>\n",
              "      <td>71</td>\n",
              "      <td>-156.0</td>\n",
              "    </tr>\n",
              "    <tr>\n",
              "      <th>3</th>\n",
              "      <td>244.72041</td>\n",
              "      <td>771.1033</td>\n",
              "      <td>1007.34406</td>\n",
              "      <td>71</td>\n",
              "      <td>-156.0</td>\n",
              "    </tr>\n",
              "    <tr>\n",
              "      <th>4</th>\n",
              "      <td>244.60611</td>\n",
              "      <td>770.5008</td>\n",
              "      <td>1003.50616</td>\n",
              "      <td>71</td>\n",
              "      <td>-156.0</td>\n",
              "    </tr>\n",
              "  </tbody>\n",
              "</table>\n",
              "</div>\n",
              "      <button class=\"colab-df-convert\" onclick=\"convertToInteractive('df-4e738358-10e6-49da-88ec-2fd8fac4b802')\"\n",
              "              title=\"Convert this dataframe to an interactive table.\"\n",
              "              style=\"display:none;\">\n",
              "        \n",
              "  <svg xmlns=\"http://www.w3.org/2000/svg\" height=\"24px\"viewBox=\"0 0 24 24\"\n",
              "       width=\"24px\">\n",
              "    <path d=\"M0 0h24v24H0V0z\" fill=\"none\"/>\n",
              "    <path d=\"M18.56 5.44l.94 2.06.94-2.06 2.06-.94-2.06-.94-.94-2.06-.94 2.06-2.06.94zm-11 1L8.5 8.5l.94-2.06 2.06-.94-2.06-.94L8.5 2.5l-.94 2.06-2.06.94zm10 10l.94 2.06.94-2.06 2.06-.94-2.06-.94-.94-2.06-.94 2.06-2.06.94z\"/><path d=\"M17.41 7.96l-1.37-1.37c-.4-.4-.92-.59-1.43-.59-.52 0-1.04.2-1.43.59L10.3 9.45l-7.72 7.72c-.78.78-.78 2.05 0 2.83L4 21.41c.39.39.9.59 1.41.59.51 0 1.02-.2 1.41-.59l7.78-7.78 2.81-2.81c.8-.78.8-2.07 0-2.86zM5.41 20L4 18.59l7.72-7.72 1.47 1.35L5.41 20z\"/>\n",
              "  </svg>\n",
              "      </button>\n",
              "      \n",
              "  <style>\n",
              "    .colab-df-container {\n",
              "      display:flex;\n",
              "      flex-wrap:wrap;\n",
              "      gap: 12px;\n",
              "    }\n",
              "\n",
              "    .colab-df-convert {\n",
              "      background-color: #E8F0FE;\n",
              "      border: none;\n",
              "      border-radius: 50%;\n",
              "      cursor: pointer;\n",
              "      display: none;\n",
              "      fill: #1967D2;\n",
              "      height: 32px;\n",
              "      padding: 0 0 0 0;\n",
              "      width: 32px;\n",
              "    }\n",
              "\n",
              "    .colab-df-convert:hover {\n",
              "      background-color: #E2EBFA;\n",
              "      box-shadow: 0px 1px 2px rgba(60, 64, 67, 0.3), 0px 1px 3px 1px rgba(60, 64, 67, 0.15);\n",
              "      fill: #174EA6;\n",
              "    }\n",
              "\n",
              "    [theme=dark] .colab-df-convert {\n",
              "      background-color: #3B4455;\n",
              "      fill: #D2E3FC;\n",
              "    }\n",
              "\n",
              "    [theme=dark] .colab-df-convert:hover {\n",
              "      background-color: #434B5C;\n",
              "      box-shadow: 0px 1px 3px 1px rgba(0, 0, 0, 0.15);\n",
              "      filter: drop-shadow(0px 1px 2px rgba(0, 0, 0, 0.3));\n",
              "      fill: #FFFFFF;\n",
              "    }\n",
              "  </style>\n",
              "\n",
              "      <script>\n",
              "        const buttonEl =\n",
              "          document.querySelector('#df-4e738358-10e6-49da-88ec-2fd8fac4b802 button.colab-df-convert');\n",
              "        buttonEl.style.display =\n",
              "          google.colab.kernel.accessAllowed ? 'block' : 'none';\n",
              "\n",
              "        async function convertToInteractive(key) {\n",
              "          const element = document.querySelector('#df-4e738358-10e6-49da-88ec-2fd8fac4b802');\n",
              "          const dataTable =\n",
              "            await google.colab.kernel.invokeFunction('convertToInteractive',\n",
              "                                                     [key], {});\n",
              "          if (!dataTable) return;\n",
              "\n",
              "          const docLinkHtml = 'Like what you see? Visit the ' +\n",
              "            '<a target=\"_blank\" href=https://colab.research.google.com/notebooks/data_table.ipynb>data table notebook</a>'\n",
              "            + ' to learn more about interactive tables.';\n",
              "          element.innerHTML = '';\n",
              "          dataTable['output_type'] = 'display_data';\n",
              "          await google.colab.output.renderOutput(dataTable, element);\n",
              "          const docLink = document.createElement('div');\n",
              "          docLink.innerHTML = docLinkHtml;\n",
              "          element.appendChild(docLink);\n",
              "        }\n",
              "      </script>\n",
              "    </div>\n",
              "  </div>\n",
              "  "
            ]
          },
          "metadata": {},
          "execution_count": 210
        }
      ]
    },
    {
      "cell_type": "code",
      "source": [
        "df_submission.to_csv('submission.csv', index=False)"
      ],
      "metadata": {
        "id": "LMGgQJBJabfd"
      },
      "id": "LMGgQJBJabfd",
      "execution_count": 211,
      "outputs": []
    },
    {
      "cell_type": "code",
      "source": [
        "import matplotlib.pyplot as plt\n",
        "plt.scatter(df_submission['Latitude'], df_submission['Longitude'], s=20, c=df_submission['Clearsky DNI'], cmap='plasma')\n"
      ],
      "metadata": {
        "id": "v2DhnMJUjH91",
        "outputId": "ef5ffa30-59a2-4b22-bbfc-9ec61ea558d7",
        "colab": {
          "base_uri": "https://localhost:8080/",
          "height": 283
        }
      },
      "id": "v2DhnMJUjH91",
      "execution_count": 224,
      "outputs": [
        {
          "output_type": "execute_result",
          "data": {
            "text/plain": [
              "<matplotlib.collections.PathCollection at 0x7fdf6cad9610>"
            ]
          },
          "metadata": {},
          "execution_count": 224
        },
        {
          "output_type": "display_data",
          "data": {
            "text/plain": [
              "<Figure size 432x288 with 1 Axes>"
            ],
            "image/png": "[encoded data removed]"
          },
          "metadata": {
            "needs_background": "light"
          }
        }
      ]
    },
    {
      "cell_type": "code",
      "source": [
        "plt.scatter(df_submission['Latitude'], df_submission['Longitude'], s=20, c=df_submission['Clearsky DHI'], cmap='plasma')"
      ],
      "metadata": {
        "id": "F2TX0tQpqerH",
        "outputId": "bb9a7264-c3e7-4061-f259-b513482b26a2",
        "colab": {
          "base_uri": "https://localhost:8080/",
          "height": 283
        }
      },
      "id": "F2TX0tQpqerH",
      "execution_count": 221,
      "outputs": [
        {
          "output_type": "execute_result",
          "data": {
            "text/plain": [
              "<matplotlib.collections.PathCollection at 0x7fdf5843f100>"
            ]
          },
          "metadata": {},
          "execution_count": 221
        },
        {
          "output_type": "display_data",
          "data": {
            "text/plain": [
              "<Figure size 432x288 with 1 Axes>"
            ],
            "image/png": "[encoded data removed]"
          },
          "metadata": {
            "needs_background": "light"
          }
        }
      ]
    },
    {
      "cell_type": "code",
      "source": [
        "plt.scatter(df_submission['Latitude'], df_submission['Longitude'], s=20, c=df_submission['Clearsky GHI'], cmap='plasma')"
      ],
      "metadata": {
        "id": "x4jjHRieqguI",
        "outputId": "ae07ea26-f101-4dd9-a990-3b9be702fb9c",
        "colab": {
          "base_uri": "https://localhost:8080/",
          "height": 283
        }
      },
      "id": "x4jjHRieqguI",
      "execution_count": 222,
      "outputs": [
        {
          "output_type": "execute_result",
          "data": {
            "text/plain": [
              "<matplotlib.collections.PathCollection at 0x7fdf6ad1d340>"
            ]
          },
          "metadata": {},
          "execution_count": 222
        },
        {
          "output_type": "display_data",
          "data": {
            "text/plain": [
              "<Figure size 432x288 with 1 Axes>"
            ],
            "image/png": "[encoded data removed]"
          },
          "metadata": {
            "needs_background": "light"
          }
        }
      ]
    },
    {
      "cell_type": "code",
      "source": [
        "!pip install geopandas"
      ],
      "metadata": {
        "id": "RU5JtppRjugR",
        "outputId": "be46620e-4fd4-4b6a-e7ed-256fdc76563c",
        "colab": {
          "base_uri": "https://localhost:8080/"
        }
      },
      "id": "RU5JtppRjugR",
      "execution_count": 219,
      "outputs": [
        {
          "output_type": "stream",
          "name": "stdout",
          "text": [
            "Looking in indexes: https://pypi.org/simple, https://us-python.pkg.dev/colab-wheels/public/simple/\n",
            "Collecting geopandas\n",
            "  Downloading geopandas-0.12.2-py3-none-any.whl (1.1 MB)\n",
            "\u001b[2K     \u001b[90m━━━━━━━━━━━━━━━━━━━━━━━━━━━━━━━━━━━━━━━━\u001b[0m \u001b[32m1.1/1.1 MB\u001b[0m \u001b[31m15.6 MB/s\u001b[0m eta \u001b[36m0:00:00\u001b[0m\n",
            "\u001b[?25hRequirement already satisfied: packaging in /usr/local/lib/python3.8/dist-packages (from geopandas) (23.0)\n",
            "Collecting fiona>=1.8\n",
            "  Downloading Fiona-1.9.1-cp38-cp38-manylinux_2_17_x86_64.manylinux2014_x86_64.whl (16.0 MB)\n",
            "\u001b[2K     \u001b[90m━━━━━━━━━━━━━━━━━━━━━━━━━━━━━━━━━━━━━━━━\u001b[0m \u001b[32m16.0/16.0 MB\u001b[0m \u001b[31m83.0 MB/s\u001b[0m eta \u001b[36m0:00:00\u001b[0m\n",
            "\u001b[?25hRequirement already satisfied: pandas>=1.0.0 in /usr/local/lib/python3.8/dist-packages (from geopandas) (1.3.5)\n",
            "Requirement already satisfied: shapely>=1.7 in /usr/local/lib/python3.8/dist-packages (from geopandas) (2.0.1)\n",
            "Collecting pyproj>=2.6.1.post1\n",
            "  Downloading pyproj-3.4.1-cp38-cp38-manylinux_2_17_x86_64.manylinux2014_x86_64.whl (7.8 MB)\n",
            "\u001b[2K     \u001b[90m━━━━━━━━━━━━━━━━━━━━━━━━━━━━━━━━━━━━━━━━\u001b[0m \u001b[32m7.8/7.8 MB\u001b[0m \u001b[31m108.5 MB/s\u001b[0m eta \u001b[36m0:00:00\u001b[0m\n",
            "\u001b[?25hRequirement already satisfied: certifi in /usr/local/lib/python3.8/dist-packages (from fiona>=1.8->geopandas) (2022.12.7)\n",
            "Collecting munch>=2.3.2\n",
            "  Downloading munch-2.5.0-py2.py3-none-any.whl (10 kB)\n",
            "Requirement already satisfied: setuptools in /usr/local/lib/python3.8/dist-packages (from fiona>=1.8->geopandas) (57.4.0)\n",
            "Collecting cligj>=0.5\n",
            "  Downloading cligj-0.7.2-py3-none-any.whl (7.1 kB)\n",
            "Collecting click-plugins>=1.0\n",
            "  Downloading click_plugins-1.1.1-py2.py3-none-any.whl (7.5 kB)\n",
            "Requirement already satisfied: attrs>=19.2.0 in /usr/local/lib/python3.8/dist-packages (from fiona>=1.8->geopandas) (22.2.0)\n",
            "Requirement already satisfied: click~=8.0 in /usr/local/lib/python3.8/dist-packages (from fiona>=1.8->geopandas) (8.1.3)\n",
            "Requirement already satisfied: numpy>=1.17.3 in /usr/local/lib/python3.8/dist-packages (from pandas>=1.0.0->geopandas) (1.22.4)\n",
            "Requirement already satisfied: python-dateutil>=2.7.3 in /usr/local/lib/python3.8/dist-packages (from pandas>=1.0.0->geopandas) (2.8.2)\n",
            "Requirement already satisfied: pytz>=2017.3 in /usr/local/lib/python3.8/dist-packages (from pandas>=1.0.0->geopandas) (2022.7.1)\n",
            "Requirement already satisfied: six in /usr/local/lib/python3.8/dist-packages (from munch>=2.3.2->fiona>=1.8->geopandas) (1.15.0)\n",
            "Installing collected packages: pyproj, munch, cligj, click-plugins, fiona, geopandas\n",
            "Successfully installed click-plugins-1.1.1 cligj-0.7.2 fiona-1.9.1 geopandas-0.12.2 munch-2.5.0 pyproj-3.4.1\n"
          ]
        }
      ]
    },
    {
      "cell_type": "code",
      "source": [],
      "metadata": {
        "id": "u_Iyw78AkpgN"
      },
      "id": "u_Iyw78AkpgN",
      "execution_count": 220,
      "outputs": []
    },
    {
      "cell_type": "code",
      "source": [],
      "metadata": {
        "id": "VqKFI0AIkwKu"
      },
      "id": "VqKFI0AIkwKu",
      "execution_count": null,
      "outputs": []
    }
  ],
  "metadata": {
    "kernelspec": {
      "display_name": "Python 3 (ipykernel)",
      "language": "python",
      "name": "python3"
    },
    "language_info": {
      "codemirror_mode": {
        "name": "ipython",
        "version": 3
      },
      "file_extension": ".py",
      "mimetype": "text/x-python",
      "name": "python",
      "nbconvert_exporter": "python",
      "pygments_lexer": "ipython3",
      "version": "3.9.12"
    },
    "colab": {
      "provenance": []
    },
    "accelerator": "GPU",
    "gpuClass": "standard"
  },
  "nbformat": 4,
  "nbformat_minor": 5
}